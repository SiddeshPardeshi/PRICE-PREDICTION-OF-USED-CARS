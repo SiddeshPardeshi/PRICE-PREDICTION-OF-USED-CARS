{
 "cells": [
  {
   "cell_type": "code",
   "execution_count": 603,
   "id": "b46a859e",
   "metadata": {},
   "outputs": [],
   "source": [
    "import pandas as pd\n",
    "import numpy as np\n",
    "import matplotlib.pyplot as plt\n",
    "import seaborn as sns\n",
    "import warnings\n",
    "warnings.filterwarnings(\"ignore\")"
   ]
  },
  {
   "cell_type": "code",
   "execution_count": 829,
   "id": "af1c23e5",
   "metadata": {},
   "outputs": [],
   "source": [
    "train_df = pd.read_csv('TrainData.csv')\n",
    "test_df = pd.read_csv('TestData.csv')"
   ]
  },
  {
   "cell_type": "code",
   "execution_count": 605,
   "id": "3252c2d6",
   "metadata": {},
   "outputs": [
    {
     "data": {
      "text/html": [
       "<div>\n",
       "<style scoped>\n",
       "    .dataframe tbody tr th:only-of-type {\n",
       "        vertical-align: middle;\n",
       "    }\n",
       "\n",
       "    .dataframe tbody tr th {\n",
       "        vertical-align: top;\n",
       "    }\n",
       "\n",
       "    .dataframe thead th {\n",
       "        text-align: right;\n",
       "    }\n",
       "</style>\n",
       "<table border=\"1\" class=\"dataframe\">\n",
       "  <thead>\n",
       "    <tr style=\"text-align: right;\">\n",
       "      <th></th>\n",
       "      <th>ID</th>\n",
       "      <th>symboling</th>\n",
       "      <th>normalized-losses</th>\n",
       "      <th>make</th>\n",
       "      <th>fuel-type</th>\n",
       "      <th>aspiration</th>\n",
       "      <th>num-of-doors</th>\n",
       "      <th>body-style</th>\n",
       "      <th>drive-wheels</th>\n",
       "      <th>engine-location</th>\n",
       "      <th>...</th>\n",
       "      <th>engine-size</th>\n",
       "      <th>fuel-system</th>\n",
       "      <th>bore</th>\n",
       "      <th>stroke</th>\n",
       "      <th>compression-ratio</th>\n",
       "      <th>horsepower</th>\n",
       "      <th>peak-rpm</th>\n",
       "      <th>city-mpg</th>\n",
       "      <th>highway-mpg</th>\n",
       "      <th>price</th>\n",
       "    </tr>\n",
       "  </thead>\n",
       "  <tbody>\n",
       "    <tr>\n",
       "      <th>0</th>\n",
       "      <td>1</td>\n",
       "      <td>-1</td>\n",
       "      <td>65</td>\n",
       "      <td>toyota</td>\n",
       "      <td>gas</td>\n",
       "      <td>std</td>\n",
       "      <td>four</td>\n",
       "      <td>hatchback</td>\n",
       "      <td>fwd</td>\n",
       "      <td>front</td>\n",
       "      <td>...</td>\n",
       "      <td>122</td>\n",
       "      <td>mpfi</td>\n",
       "      <td>3.31</td>\n",
       "      <td>3.54</td>\n",
       "      <td>8.7</td>\n",
       "      <td>92</td>\n",
       "      <td>4200</td>\n",
       "      <td>27</td>\n",
       "      <td>32</td>\n",
       "      <td>11248</td>\n",
       "    </tr>\n",
       "    <tr>\n",
       "      <th>1</th>\n",
       "      <td>2</td>\n",
       "      <td>0</td>\n",
       "      <td>188</td>\n",
       "      <td>bmw</td>\n",
       "      <td>gas</td>\n",
       "      <td>std</td>\n",
       "      <td>two</td>\n",
       "      <td>sedan</td>\n",
       "      <td>rwd</td>\n",
       "      <td>front</td>\n",
       "      <td>...</td>\n",
       "      <td>164</td>\n",
       "      <td>mpfi</td>\n",
       "      <td>3.31</td>\n",
       "      <td>3.19</td>\n",
       "      <td>9.0</td>\n",
       "      <td>121</td>\n",
       "      <td>4250</td>\n",
       "      <td>21</td>\n",
       "      <td>28</td>\n",
       "      <td>20970</td>\n",
       "    </tr>\n",
       "    <tr>\n",
       "      <th>2</th>\n",
       "      <td>3</td>\n",
       "      <td>0</td>\n",
       "      <td>?</td>\n",
       "      <td>renault</td>\n",
       "      <td>gas</td>\n",
       "      <td>std</td>\n",
       "      <td>four</td>\n",
       "      <td>wagon</td>\n",
       "      <td>fwd</td>\n",
       "      <td>front</td>\n",
       "      <td>...</td>\n",
       "      <td>132</td>\n",
       "      <td>mpfi</td>\n",
       "      <td>3.46</td>\n",
       "      <td>3.9</td>\n",
       "      <td>8.7</td>\n",
       "      <td>?</td>\n",
       "      <td>?</td>\n",
       "      <td>23</td>\n",
       "      <td>31</td>\n",
       "      <td>9295</td>\n",
       "    </tr>\n",
       "    <tr>\n",
       "      <th>3</th>\n",
       "      <td>4</td>\n",
       "      <td>0</td>\n",
       "      <td>161</td>\n",
       "      <td>peugot</td>\n",
       "      <td>diesel</td>\n",
       "      <td>turbo</td>\n",
       "      <td>four</td>\n",
       "      <td>sedan</td>\n",
       "      <td>rwd</td>\n",
       "      <td>front</td>\n",
       "      <td>...</td>\n",
       "      <td>152</td>\n",
       "      <td>idi</td>\n",
       "      <td>3.7</td>\n",
       "      <td>3.52</td>\n",
       "      <td>21.0</td>\n",
       "      <td>95</td>\n",
       "      <td>4150</td>\n",
       "      <td>28</td>\n",
       "      <td>33</td>\n",
       "      <td>13200</td>\n",
       "    </tr>\n",
       "    <tr>\n",
       "      <th>4</th>\n",
       "      <td>5</td>\n",
       "      <td>-2</td>\n",
       "      <td>103</td>\n",
       "      <td>volvo</td>\n",
       "      <td>gas</td>\n",
       "      <td>std</td>\n",
       "      <td>four</td>\n",
       "      <td>sedan</td>\n",
       "      <td>rwd</td>\n",
       "      <td>front</td>\n",
       "      <td>...</td>\n",
       "      <td>141</td>\n",
       "      <td>mpfi</td>\n",
       "      <td>3.78</td>\n",
       "      <td>3.15</td>\n",
       "      <td>9.5</td>\n",
       "      <td>114</td>\n",
       "      <td>5400</td>\n",
       "      <td>24</td>\n",
       "      <td>28</td>\n",
       "      <td>15985</td>\n",
       "    </tr>\n",
       "  </tbody>\n",
       "</table>\n",
       "<p>5 rows × 27 columns</p>\n",
       "</div>"
      ],
      "text/plain": [
       "   ID  symboling normalized-losses     make fuel-type aspiration num-of-doors  \\\n",
       "0   1         -1                65   toyota       gas        std         four   \n",
       "1   2          0               188      bmw       gas        std          two   \n",
       "2   3          0                 ?  renault       gas        std         four   \n",
       "3   4          0               161   peugot    diesel      turbo         four   \n",
       "4   5         -2               103    volvo       gas        std         four   \n",
       "\n",
       "  body-style drive-wheels engine-location  ...  engine-size  fuel-system  \\\n",
       "0  hatchback          fwd           front  ...          122         mpfi   \n",
       "1      sedan          rwd           front  ...          164         mpfi   \n",
       "2      wagon          fwd           front  ...          132         mpfi   \n",
       "3      sedan          rwd           front  ...          152          idi   \n",
       "4      sedan          rwd           front  ...          141         mpfi   \n",
       "\n",
       "   bore  stroke  compression-ratio horsepower peak-rpm  city-mpg highway-mpg  \\\n",
       "0  3.31    3.54                8.7         92     4200        27          32   \n",
       "1  3.31    3.19                9.0        121     4250        21          28   \n",
       "2  3.46     3.9                8.7          ?        ?        23          31   \n",
       "3   3.7    3.52               21.0         95     4150        28          33   \n",
       "4  3.78    3.15                9.5        114     5400        24          28   \n",
       "\n",
       "   price  \n",
       "0  11248  \n",
       "1  20970  \n",
       "2   9295  \n",
       "3  13200  \n",
       "4  15985  \n",
       "\n",
       "[5 rows x 27 columns]"
      ]
     },
     "execution_count": 605,
     "metadata": {},
     "output_type": "execute_result"
    }
   ],
   "source": [
    "train_df.head()"
   ]
  },
  {
   "cell_type": "markdown",
   "id": "e2397184",
   "metadata": {},
   "source": [
    "**Data Information, description, dtypes and checking for missing values:**"
   ]
  },
  {
   "cell_type": "code",
   "execution_count": 606,
   "id": "c0495662",
   "metadata": {},
   "outputs": [
    {
     "name": "stdout",
     "output_type": "stream",
     "text": [
      "<class 'pandas.core.frame.DataFrame'>\n",
      "RangeIndex: 181 entries, 0 to 180\n",
      "Data columns (total 27 columns):\n",
      " #   Column             Non-Null Count  Dtype  \n",
      "---  ------             --------------  -----  \n",
      " 0   ID                 181 non-null    int64  \n",
      " 1   symboling          181 non-null    int64  \n",
      " 2   normalized-losses  181 non-null    object \n",
      " 3   make               181 non-null    object \n",
      " 4   fuel-type          181 non-null    object \n",
      " 5   aspiration         181 non-null    object \n",
      " 6   num-of-doors       181 non-null    object \n",
      " 7   body-style         181 non-null    object \n",
      " 8   drive-wheels       181 non-null    object \n",
      " 9   engine-location    181 non-null    object \n",
      " 10  wheel-base         181 non-null    float64\n",
      " 11  length             181 non-null    float64\n",
      " 12  width              181 non-null    float64\n",
      " 13  height             181 non-null    float64\n",
      " 14  curb-weight        181 non-null    int64  \n",
      " 15  engine-type        181 non-null    object \n",
      " 16  num-of-cylinders   181 non-null    object \n",
      " 17  engine-size        181 non-null    int64  \n",
      " 18  fuel-system        181 non-null    object \n",
      " 19  bore               181 non-null    object \n",
      " 20  stroke             181 non-null    object \n",
      " 21  compression-ratio  181 non-null    float64\n",
      " 22  horsepower         181 non-null    object \n",
      " 23  peak-rpm           181 non-null    object \n",
      " 24  city-mpg           181 non-null    int64  \n",
      " 25  highway-mpg        181 non-null    int64  \n",
      " 26  price              181 non-null    int64  \n",
      "dtypes: float64(5), int64(7), object(15)\n",
      "memory usage: 38.3+ KB\n"
     ]
    }
   ],
   "source": [
    "train_df.info()"
   ]
  },
  {
   "cell_type": "code",
   "execution_count": 607,
   "id": "1130a6eb",
   "metadata": {},
   "outputs": [
    {
     "data": {
      "text/html": [
       "<div>\n",
       "<style scoped>\n",
       "    .dataframe tbody tr th:only-of-type {\n",
       "        vertical-align: middle;\n",
       "    }\n",
       "\n",
       "    .dataframe tbody tr th {\n",
       "        vertical-align: top;\n",
       "    }\n",
       "\n",
       "    .dataframe thead th {\n",
       "        text-align: right;\n",
       "    }\n",
       "</style>\n",
       "<table border=\"1\" class=\"dataframe\">\n",
       "  <thead>\n",
       "    <tr style=\"text-align: right;\">\n",
       "      <th></th>\n",
       "      <th>ID</th>\n",
       "      <th>symboling</th>\n",
       "      <th>wheel-base</th>\n",
       "      <th>length</th>\n",
       "      <th>width</th>\n",
       "      <th>height</th>\n",
       "      <th>curb-weight</th>\n",
       "      <th>engine-size</th>\n",
       "      <th>compression-ratio</th>\n",
       "      <th>city-mpg</th>\n",
       "      <th>highway-mpg</th>\n",
       "      <th>price</th>\n",
       "    </tr>\n",
       "  </thead>\n",
       "  <tbody>\n",
       "    <tr>\n",
       "      <th>count</th>\n",
       "      <td>181.000000</td>\n",
       "      <td>181.000000</td>\n",
       "      <td>181.000000</td>\n",
       "      <td>181.000000</td>\n",
       "      <td>181.000000</td>\n",
       "      <td>181.000000</td>\n",
       "      <td>181.000000</td>\n",
       "      <td>181.000000</td>\n",
       "      <td>181.000000</td>\n",
       "      <td>181.000000</td>\n",
       "      <td>181.000000</td>\n",
       "      <td>181.000000</td>\n",
       "    </tr>\n",
       "    <tr>\n",
       "      <th>mean</th>\n",
       "      <td>91.000000</td>\n",
       "      <td>0.850829</td>\n",
       "      <td>98.729282</td>\n",
       "      <td>174.174033</td>\n",
       "      <td>65.943646</td>\n",
       "      <td>53.709945</td>\n",
       "      <td>2564.165746</td>\n",
       "      <td>127.900552</td>\n",
       "      <td>10.154254</td>\n",
       "      <td>25.132597</td>\n",
       "      <td>30.646409</td>\n",
       "      <td>13271.314917</td>\n",
       "    </tr>\n",
       "    <tr>\n",
       "      <th>std</th>\n",
       "      <td>52.394338</td>\n",
       "      <td>1.267045</td>\n",
       "      <td>6.116197</td>\n",
       "      <td>12.336569</td>\n",
       "      <td>2.146114</td>\n",
       "      <td>2.497735</td>\n",
       "      <td>523.489016</td>\n",
       "      <td>42.578438</td>\n",
       "      <td>3.982306</td>\n",
       "      <td>6.418211</td>\n",
       "      <td>6.888545</td>\n",
       "      <td>8106.479635</td>\n",
       "    </tr>\n",
       "    <tr>\n",
       "      <th>min</th>\n",
       "      <td>1.000000</td>\n",
       "      <td>-2.000000</td>\n",
       "      <td>86.600000</td>\n",
       "      <td>141.100000</td>\n",
       "      <td>60.300000</td>\n",
       "      <td>47.800000</td>\n",
       "      <td>1488.000000</td>\n",
       "      <td>61.000000</td>\n",
       "      <td>7.000000</td>\n",
       "      <td>13.000000</td>\n",
       "      <td>16.000000</td>\n",
       "      <td>5118.000000</td>\n",
       "    </tr>\n",
       "    <tr>\n",
       "      <th>25%</th>\n",
       "      <td>46.000000</td>\n",
       "      <td>0.000000</td>\n",
       "      <td>94.500000</td>\n",
       "      <td>166.800000</td>\n",
       "      <td>64.200000</td>\n",
       "      <td>51.600000</td>\n",
       "      <td>2190.000000</td>\n",
       "      <td>98.000000</td>\n",
       "      <td>8.600000</td>\n",
       "      <td>19.000000</td>\n",
       "      <td>25.000000</td>\n",
       "      <td>7775.000000</td>\n",
       "    </tr>\n",
       "    <tr>\n",
       "      <th>50%</th>\n",
       "      <td>91.000000</td>\n",
       "      <td>1.000000</td>\n",
       "      <td>96.900000</td>\n",
       "      <td>173.200000</td>\n",
       "      <td>65.500000</td>\n",
       "      <td>54.100000</td>\n",
       "      <td>2420.000000</td>\n",
       "      <td>120.000000</td>\n",
       "      <td>9.000000</td>\n",
       "      <td>24.000000</td>\n",
       "      <td>30.000000</td>\n",
       "      <td>10295.000000</td>\n",
       "    </tr>\n",
       "    <tr>\n",
       "      <th>75%</th>\n",
       "      <td>136.000000</td>\n",
       "      <td>2.000000</td>\n",
       "      <td>102.400000</td>\n",
       "      <td>183.100000</td>\n",
       "      <td>66.600000</td>\n",
       "      <td>55.500000</td>\n",
       "      <td>2935.000000</td>\n",
       "      <td>146.000000</td>\n",
       "      <td>9.400000</td>\n",
       "      <td>30.000000</td>\n",
       "      <td>34.000000</td>\n",
       "      <td>16500.000000</td>\n",
       "    </tr>\n",
       "    <tr>\n",
       "      <th>max</th>\n",
       "      <td>181.000000</td>\n",
       "      <td>3.000000</td>\n",
       "      <td>120.900000</td>\n",
       "      <td>208.100000</td>\n",
       "      <td>72.000000</td>\n",
       "      <td>59.800000</td>\n",
       "      <td>4066.000000</td>\n",
       "      <td>326.000000</td>\n",
       "      <td>23.000000</td>\n",
       "      <td>49.000000</td>\n",
       "      <td>54.000000</td>\n",
       "      <td>45400.000000</td>\n",
       "    </tr>\n",
       "  </tbody>\n",
       "</table>\n",
       "</div>"
      ],
      "text/plain": [
       "               ID   symboling  wheel-base      length       width      height  \\\n",
       "count  181.000000  181.000000  181.000000  181.000000  181.000000  181.000000   \n",
       "mean    91.000000    0.850829   98.729282  174.174033   65.943646   53.709945   \n",
       "std     52.394338    1.267045    6.116197   12.336569    2.146114    2.497735   \n",
       "min      1.000000   -2.000000   86.600000  141.100000   60.300000   47.800000   \n",
       "25%     46.000000    0.000000   94.500000  166.800000   64.200000   51.600000   \n",
       "50%     91.000000    1.000000   96.900000  173.200000   65.500000   54.100000   \n",
       "75%    136.000000    2.000000  102.400000  183.100000   66.600000   55.500000   \n",
       "max    181.000000    3.000000  120.900000  208.100000   72.000000   59.800000   \n",
       "\n",
       "       curb-weight  engine-size  compression-ratio    city-mpg  highway-mpg  \\\n",
       "count   181.000000   181.000000         181.000000  181.000000   181.000000   \n",
       "mean   2564.165746   127.900552          10.154254   25.132597    30.646409   \n",
       "std     523.489016    42.578438           3.982306    6.418211     6.888545   \n",
       "min    1488.000000    61.000000           7.000000   13.000000    16.000000   \n",
       "25%    2190.000000    98.000000           8.600000   19.000000    25.000000   \n",
       "50%    2420.000000   120.000000           9.000000   24.000000    30.000000   \n",
       "75%    2935.000000   146.000000           9.400000   30.000000    34.000000   \n",
       "max    4066.000000   326.000000          23.000000   49.000000    54.000000   \n",
       "\n",
       "              price  \n",
       "count    181.000000  \n",
       "mean   13271.314917  \n",
       "std     8106.479635  \n",
       "min     5118.000000  \n",
       "25%     7775.000000  \n",
       "50%    10295.000000  \n",
       "75%    16500.000000  \n",
       "max    45400.000000  "
      ]
     },
     "execution_count": 607,
     "metadata": {},
     "output_type": "execute_result"
    }
   ],
   "source": [
    "train_df.describe()"
   ]
  },
  {
   "cell_type": "code",
   "execution_count": 608,
   "id": "3d8e045d",
   "metadata": {},
   "outputs": [
    {
     "data": {
      "text/plain": [
       "ID                   0.000000\n",
       "symboling            0.234524\n",
       "wheel-base           1.046719\n",
       "length               0.166488\n",
       "width                0.854458\n",
       "height               0.067838\n",
       "curb-weight          0.717686\n",
       "engine-size          1.950967\n",
       "compression-ratio    2.582607\n",
       "city-mpg             0.742139\n",
       "highway-mpg          0.586904\n",
       "price                1.828445\n",
       "dtype: float64"
      ]
     },
     "execution_count": 608,
     "metadata": {},
     "output_type": "execute_result"
    }
   ],
   "source": [
    "train_df.skew()"
   ]
  },
  {
   "cell_type": "code",
   "execution_count": 609,
   "id": "a3e73335",
   "metadata": {},
   "outputs": [
    {
     "data": {
      "text/plain": [
       "ID                     int64\n",
       "symboling              int64\n",
       "normalized-losses     object\n",
       "make                  object\n",
       "fuel-type             object\n",
       "aspiration            object\n",
       "num-of-doors          object\n",
       "body-style            object\n",
       "drive-wheels          object\n",
       "engine-location       object\n",
       "wheel-base           float64\n",
       "length               float64\n",
       "width                float64\n",
       "height               float64\n",
       "curb-weight            int64\n",
       "engine-type           object\n",
       "num-of-cylinders      object\n",
       "engine-size            int64\n",
       "fuel-system           object\n",
       "bore                  object\n",
       "stroke                object\n",
       "compression-ratio    float64\n",
       "horsepower            object\n",
       "peak-rpm              object\n",
       "city-mpg               int64\n",
       "highway-mpg            int64\n",
       "price                  int64\n",
       "dtype: object"
      ]
     },
     "execution_count": 609,
     "metadata": {},
     "output_type": "execute_result"
    }
   ],
   "source": [
    "train_df.dtypes"
   ]
  },
  {
   "cell_type": "code",
   "execution_count": 610,
   "id": "e0175d53",
   "metadata": {},
   "outputs": [
    {
     "data": {
      "text/plain": [
       "ID                   0\n",
       "symboling            0\n",
       "normalized-losses    0\n",
       "make                 0\n",
       "fuel-type            0\n",
       "aspiration           0\n",
       "num-of-doors         0\n",
       "body-style           0\n",
       "drive-wheels         0\n",
       "engine-location      0\n",
       "wheel-base           0\n",
       "length               0\n",
       "width                0\n",
       "height               0\n",
       "curb-weight          0\n",
       "engine-type          0\n",
       "num-of-cylinders     0\n",
       "engine-size          0\n",
       "fuel-system          0\n",
       "bore                 0\n",
       "stroke               0\n",
       "compression-ratio    0\n",
       "horsepower           0\n",
       "peak-rpm             0\n",
       "city-mpg             0\n",
       "highway-mpg          0\n",
       "price                0\n",
       "dtype: int64"
      ]
     },
     "execution_count": 610,
     "metadata": {},
     "output_type": "execute_result"
    }
   ],
   "source": [
    "train_df.isna().sum()"
   ]
  },
  {
   "cell_type": "code",
   "execution_count": 611,
   "id": "ae97ed94",
   "metadata": {},
   "outputs": [
    {
     "name": "stdout",
     "output_type": "stream",
     "text": [
      "<class 'pandas.core.frame.DataFrame'>\n",
      "RangeIndex: 181 entries, 0 to 180\n",
      "Data columns (total 27 columns):\n",
      " #   Column             Non-Null Count  Dtype  \n",
      "---  ------             --------------  -----  \n",
      " 0   ID                 181 non-null    int64  \n",
      " 1   symboling          181 non-null    int64  \n",
      " 2   normalized-losses  181 non-null    object \n",
      " 3   make               181 non-null    object \n",
      " 4   fuel-type          181 non-null    object \n",
      " 5   aspiration         181 non-null    object \n",
      " 6   num-of-doors       181 non-null    object \n",
      " 7   body-style         181 non-null    object \n",
      " 8   drive-wheels       181 non-null    object \n",
      " 9   engine-location    181 non-null    object \n",
      " 10  wheel-base         181 non-null    float64\n",
      " 11  length             181 non-null    float64\n",
      " 12  width              181 non-null    float64\n",
      " 13  height             181 non-null    float64\n",
      " 14  curb-weight        181 non-null    int64  \n",
      " 15  engine-type        181 non-null    object \n",
      " 16  num-of-cylinders   181 non-null    object \n",
      " 17  engine-size        181 non-null    int64  \n",
      " 18  fuel-system        181 non-null    object \n",
      " 19  bore               181 non-null    object \n",
      " 20  stroke             181 non-null    object \n",
      " 21  compression-ratio  181 non-null    float64\n",
      " 22  horsepower         181 non-null    object \n",
      " 23  peak-rpm           181 non-null    object \n",
      " 24  city-mpg           181 non-null    int64  \n",
      " 25  highway-mpg        181 non-null    int64  \n",
      " 26  price              181 non-null    int64  \n",
      "dtypes: float64(5), int64(7), object(15)\n",
      "memory usage: 38.3+ KB\n"
     ]
    }
   ],
   "source": [
    "train_df.info()"
   ]
  },
  {
   "cell_type": "markdown",
   "id": "a333edab",
   "metadata": {},
   "source": [
    "**Using boxplot to treat outliers:**"
   ]
  },
  {
   "cell_type": "code",
   "execution_count": 612,
   "id": "0367fed0",
   "metadata": {},
   "outputs": [
    {
     "data": {
      "text/plain": [
       "<AxesSubplot:xlabel='engine-size'>"
      ]
     },
     "execution_count": 612,
     "metadata": {},
     "output_type": "execute_result"
    },
    {
     "data": {
      "image/png": "[encoded data removed]",
      "text/plain": [
       "<Figure size 432x288 with 1 Axes>"
      ]
     },
     "metadata": {
      "needs_background": "light"
     },
     "output_type": "display_data"
    }
   ],
   "source": [
    "sns.boxplot(train_df['engine-size'])"
   ]
  },
  {
   "cell_type": "code",
   "execution_count": 613,
   "id": "9072e859",
   "metadata": {},
   "outputs": [
    {
     "data": {
      "text/plain": [
       "<AxesSubplot:xlabel='compression-ratio'>"
      ]
     },
     "execution_count": 613,
     "metadata": {},
     "output_type": "execute_result"
    },
    {
     "data": {
      "image/png": "[encoded data removed]",
      "text/plain": [
       "<Figure size 432x288 with 1 Axes>"
      ]
     },
     "metadata": {
      "needs_background": "light"
     },
     "output_type": "display_data"
    }
   ],
   "source": [
    "sns.boxplot(train_df['compression-ratio'])"
   ]
  },
  {
   "cell_type": "code",
   "execution_count": 614,
   "id": "42ba8dbe",
   "metadata": {},
   "outputs": [
    {
     "data": {
      "text/plain": [
       "<AxesSubplot:xlabel='price'>"
      ]
     },
     "execution_count": 614,
     "metadata": {},
     "output_type": "execute_result"
    },
    {
     "data": {
      "image/png": "[encoded data removed]",
      "text/plain": [
       "<Figure size 432x288 with 1 Axes>"
      ]
     },
     "metadata": {
      "needs_background": "light"
     },
     "output_type": "display_data"
    }
   ],
   "source": [
    "sns.boxplot(train_df['price'])"
   ]
  },
  {
   "cell_type": "code",
   "execution_count": 615,
   "id": "9d2507dc",
   "metadata": {},
   "outputs": [
    {
     "data": {
      "text/plain": [
       "<AxesSubplot:xlabel='wheel-base'>"
      ]
     },
     "execution_count": 615,
     "metadata": {},
     "output_type": "execute_result"
    },
    {
     "data": {
      "image/png": "[encoded data removed]",
      "text/plain": [
       "<Figure size 432x288 with 1 Axes>"
      ]
     },
     "metadata": {
      "needs_background": "light"
     },
     "output_type": "display_data"
    }
   ],
   "source": [
    "sns.boxplot(train_df['wheel-base'])"
   ]
  },
  {
   "cell_type": "code",
   "execution_count": 616,
   "id": "8ada8381",
   "metadata": {},
   "outputs": [],
   "source": [
    "def Outliers(train_df, var):\n",
    "    Q1 = train_df['engine-size'].quantile(0.25)\n",
    "    Q3 = train_df['engine-size'].quantile(0.75)\n",
    "    IQR = Q3-Q1\n",
    "    Lower = Q1-(1.5*IQR)\n",
    "    Upper = Q3+(1.5*IQR)\n",
    "    \n",
    "    return Lower, Upper"
   ]
  },
  {
   "cell_type": "code",
   "execution_count": 617,
   "id": "cc6386a4",
   "metadata": {},
   "outputs": [],
   "source": [
    "lower_eng, upper_eng = Outliers(train_df, 'engine-size')"
   ]
  },
  {
   "cell_type": "code",
   "execution_count": 618,
   "id": "154acdd1",
   "metadata": {},
   "outputs": [],
   "source": [
    "train_df['engine-size'] = np.where(train_df['engine-size'] > upper_eng, upper_eng, np.where(train_df['engine-size'] < \n",
    "                                                                                           lower_eng, lower_eng, train_df['engine-size']))"
   ]
  },
  {
   "cell_type": "code",
   "execution_count": 619,
   "id": "6816061b",
   "metadata": {},
   "outputs": [
    {
     "data": {
      "text/plain": [
       "<AxesSubplot:xlabel='engine-size'>"
      ]
     },
     "execution_count": 619,
     "metadata": {},
     "output_type": "execute_result"
    },
    {
     "data": {
      "image/png": "[encoded data removed]",
      "text/plain": [
       "<Figure size 432x288 with 1 Axes>"
      ]
     },
     "metadata": {
      "needs_background": "light"
     },
     "output_type": "display_data"
    }
   ],
   "source": [
    "sns.boxplot(train_df['engine-size'])"
   ]
  },
  {
   "cell_type": "code",
   "execution_count": 620,
   "id": "6d40b229",
   "metadata": {},
   "outputs": [],
   "source": [
    "def Outliers(train_df, var):\n",
    "    Q1 = train_df['wheel-base'].quantile(0.25)\n",
    "    Q3 = train_df['wheel-base'].quantile(0.75)\n",
    "    IQR = Q3-Q1\n",
    "    Lower = Q1-(1.5*IQR)\n",
    "    Upper = Q3+(1.5*IQR)\n",
    "    \n",
    "    return Lower, Upper"
   ]
  },
  {
   "cell_type": "code",
   "execution_count": 621,
   "id": "a5342420",
   "metadata": {},
   "outputs": [],
   "source": [
    "lower_wheel, upper_wheel = Outliers(train_df, 'wheel-base')"
   ]
  },
  {
   "cell_type": "code",
   "execution_count": 622,
   "id": "802f0075",
   "metadata": {},
   "outputs": [],
   "source": [
    "train_df['wheel-base'] = np.where(train_df['wheel-base'] > upper_wheel, upper_wheel, np.where(train_df['wheel-base'] < \n",
    "                                                                                           lower_wheel, lower_wheel, train_df['wheel-base']))"
   ]
  },
  {
   "cell_type": "code",
   "execution_count": 623,
   "id": "6716b4cd",
   "metadata": {
    "scrolled": true
   },
   "outputs": [
    {
     "data": {
      "text/plain": [
       "<AxesSubplot:xlabel='wheel-base'>"
      ]
     },
     "execution_count": 623,
     "metadata": {},
     "output_type": "execute_result"
    },
    {
     "data": {
      "image/png": "[encoded data removed]",
      "text/plain": [
       "<Figure size 432x288 with 1 Axes>"
      ]
     },
     "metadata": {
      "needs_background": "light"
     },
     "output_type": "display_data"
    }
   ],
   "source": [
    "sns.boxplot(train_df['wheel-base'])"
   ]
  },
  {
   "cell_type": "markdown",
   "id": "ad54d424",
   "metadata": {},
   "source": [
    "# EDA:"
   ]
  },
  {
   "cell_type": "code",
   "execution_count": 624,
   "id": "82176d2a",
   "metadata": {},
   "outputs": [
    {
     "name": "stdout",
     "output_type": "stream",
     "text": [
      "<class 'pandas.core.frame.DataFrame'>\n",
      "RangeIndex: 181 entries, 0 to 180\n",
      "Data columns (total 27 columns):\n",
      " #   Column             Non-Null Count  Dtype  \n",
      "---  ------             --------------  -----  \n",
      " 0   ID                 181 non-null    int64  \n",
      " 1   symboling          181 non-null    int64  \n",
      " 2   normalized-losses  181 non-null    object \n",
      " 3   make               181 non-null    object \n",
      " 4   fuel-type          181 non-null    object \n",
      " 5   aspiration         181 non-null    object \n",
      " 6   num-of-doors       181 non-null    object \n",
      " 7   body-style         181 non-null    object \n",
      " 8   drive-wheels       181 non-null    object \n",
      " 9   engine-location    181 non-null    object \n",
      " 10  wheel-base         181 non-null    float64\n",
      " 11  length             181 non-null    float64\n",
      " 12  width              181 non-null    float64\n",
      " 13  height             181 non-null    float64\n",
      " 14  curb-weight        181 non-null    int64  \n",
      " 15  engine-type        181 non-null    object \n",
      " 16  num-of-cylinders   181 non-null    object \n",
      " 17  engine-size        181 non-null    float64\n",
      " 18  fuel-system        181 non-null    object \n",
      " 19  bore               181 non-null    object \n",
      " 20  stroke             181 non-null    object \n",
      " 21  compression-ratio  181 non-null    float64\n",
      " 22  horsepower         181 non-null    object \n",
      " 23  peak-rpm           181 non-null    object \n",
      " 24  city-mpg           181 non-null    int64  \n",
      " 25  highway-mpg        181 non-null    int64  \n",
      " 26  price              181 non-null    int64  \n",
      "dtypes: float64(6), int64(6), object(15)\n",
      "memory usage: 38.3+ KB\n"
     ]
    }
   ],
   "source": [
    "train_df.info()"
   ]
  },
  {
   "cell_type": "code",
   "execution_count": 625,
   "id": "79ce775c",
   "metadata": {},
   "outputs": [
    {
     "data": {
      "image/png": "[encoded data removed]",
      "text/plain": [
       "<Figure size 1080x504 with 1 Axes>"
      ]
     },
     "metadata": {
      "needs_background": "light"
     },
     "output_type": "display_data"
    }
   ],
   "source": [
    "figure = plt.figure(figsize=[15, 7])\n",
    "train_df['stroke'].value_counts().plot.bar()\n",
    "plt.xticks(rotation = 0, size=12)\n",
    "plt.xlabel(xlabel='Stroke', size=14)\n",
    "plt.ylabel(ylabel='Count', size=14)\n",
    "plt.show()"
   ]
  },
  {
   "cell_type": "code",
   "execution_count": 626,
   "id": "7044ec6f",
   "metadata": {},
   "outputs": [
    {
     "data": {
      "text/plain": [
       "<AxesSubplot:xlabel='body-style', ylabel='price'>"
      ]
     },
     "execution_count": 626,
     "metadata": {},
     "output_type": "execute_result"
    },
    {
     "data": {
      "image/png": "[encoded data removed]",
      "text/plain": [
       "<Figure size 432x288 with 1 Axes>"
      ]
     },
     "metadata": {
      "needs_background": "light"
     },
     "output_type": "display_data"
    }
   ],
   "source": [
    "sns.barplot(data=train_df, x='body-style', y='price', ci = None)"
   ]
  },
  {
   "cell_type": "code",
   "execution_count": 627,
   "id": "7628a620",
   "metadata": {},
   "outputs": [
    {
     "data": {
      "text/plain": [
       "<AxesSubplot:xlabel='engine-type', ylabel='symboling'>"
      ]
     },
     "execution_count": 627,
     "metadata": {},
     "output_type": "execute_result"
    },
    {
     "data": {
      "image/png": "[encoded data removed]",
      "text/plain": [
       "<Figure size 432x288 with 1 Axes>"
      ]
     },
     "metadata": {
      "needs_background": "light"
     },
     "output_type": "display_data"
    }
   ],
   "source": [
    "sns.barplot(data=train_df, x='engine-type', y='symboling', ci=None)"
   ]
  },
  {
   "cell_type": "code",
   "execution_count": 628,
   "id": "bcd697f6",
   "metadata": {},
   "outputs": [
    {
     "data": {
      "text/plain": [
       "<seaborn.axisgrid.FacetGrid at 0x24e9a418b50>"
      ]
     },
     "execution_count": 628,
     "metadata": {},
     "output_type": "execute_result"
    },
    {
     "data": {
      "image/png": "[encoded data removed]",
      "text/plain": [
       "<Figure size 1080x216 with 5 Axes>"
      ]
     },
     "metadata": {
      "needs_background": "light"
     },
     "output_type": "display_data"
    }
   ],
   "source": [
    "grid = sns.FacetGrid(train_df, col='body-style')\n",
    "grid.map(sns.countplot, 'engine-type')"
   ]
  },
  {
   "cell_type": "code",
   "execution_count": 629,
   "id": "c8a5a478",
   "metadata": {},
   "outputs": [
    {
     "data": {
      "text/plain": [
       "<seaborn.axisgrid.FacetGrid at 0x24e98ecc8e0>"
      ]
     },
     "execution_count": 629,
     "metadata": {},
     "output_type": "execute_result"
    },
    {
     "data": {
      "image/png": "[encoded data removed]",
      "text/plain": [
       "<Figure size 432x216 with 2 Axes>"
      ]
     },
     "metadata": {
      "needs_background": "light"
     },
     "output_type": "display_data"
    }
   ],
   "source": [
    "grid = sns.FacetGrid(train_df, col='fuel-type')\n",
    "grid.map(sns.countplot, 'engine-type')"
   ]
  },
  {
   "cell_type": "code",
   "execution_count": 630,
   "id": "5285e50f",
   "metadata": {},
   "outputs": [
    {
     "data": {
      "text/plain": [
       "<seaborn.axisgrid.FacetGrid at 0x24e9a85da90>"
      ]
     },
     "execution_count": 630,
     "metadata": {},
     "output_type": "execute_result"
    },
    {
     "data": {
      "image/png": "[encoded data removed]",
      "text/plain": [
       "<Figure size 1512x216 with 7 Axes>"
      ]
     },
     "metadata": {
      "needs_background": "light"
     },
     "output_type": "display_data"
    }
   ],
   "source": [
    "grid = sns.FacetGrid(train_df, col='num-of-cylinders')\n",
    "grid.map(sns.countplot, 'engine-type')"
   ]
  },
  {
   "cell_type": "code",
   "execution_count": 631,
   "id": "534094aa",
   "metadata": {},
   "outputs": [
    {
     "data": {
      "image/png": "[encoded data removed]",
      "text/plain": [
       "<Figure size 1080x504 with 2 Axes>"
      ]
     },
     "metadata": {
      "needs_background": "light"
     },
     "output_type": "display_data"
    }
   ],
   "source": [
    "figure = plt.figure(figsize=[15, 7])\n",
    "sns.heatmap(data=train_df.corr(), annot=True)\n",
    "plt.xticks(size=12, rotation=90)\n",
    "plt.yticks(size=12)\n",
    "plt.xlabel(xlabel='Feature Space X', size=14)\n",
    "plt.ylabel(ylabel='Feature Space Y', size=14)\n",
    "plt.title(label='Correlation of Features', size=16)\n",
    "plt.show()"
   ]
  },
  {
   "cell_type": "code",
   "execution_count": 632,
   "id": "12514e60",
   "metadata": {},
   "outputs": [
    {
     "data": {
      "text/plain": [
       "<seaborn.axisgrid.FacetGrid at 0x24e9c248d00>"
      ]
     },
     "execution_count": 632,
     "metadata": {},
     "output_type": "execute_result"
    },
    {
     "data": {
      "image/png": "[encoded data removed]",
      "text/plain": [
       "<Figure size 1080x216 with 5 Axes>"
      ]
     },
     "metadata": {
      "needs_background": "light"
     },
     "output_type": "display_data"
    }
   ],
   "source": [
    "grid = sns.FacetGrid(train_df, col='body-style')\n",
    "grid.map(sns.countplot, 'num-of-doors')"
   ]
  },
  {
   "cell_type": "code",
   "execution_count": 634,
   "id": "453851af",
   "metadata": {},
   "outputs": [
    {
     "data": {
      "image/png": "[encoded data removed]",
      "text/plain": [
       "<Figure size 1080x504 with 1 Axes>"
      ]
     },
     "metadata": {
      "needs_background": "light"
     },
     "output_type": "display_data"
    }
   ],
   "source": [
    "train_df.plot.scatter(x='city-mpg', y='highway-mpg', color='purple', figsize=[15, 7])\n",
    "plt.xlabel(xlabel='City mpg', size=14)\n",
    "plt.ylabel(ylabel='Highway mpg', size=14)\n",
    "plt.title(label='City mpg vs Highway mpg', size=16)\n",
    "plt.show()"
   ]
  },
  {
   "cell_type": "code",
   "execution_count": 635,
   "id": "fe04f224",
   "metadata": {},
   "outputs": [
    {
     "data": {
      "text/plain": [
       "<AxesSubplot:xlabel='engine-type', ylabel='engine-size'>"
      ]
     },
     "execution_count": 635,
     "metadata": {},
     "output_type": "execute_result"
    },
    {
     "data": {
      "image/png": "[encoded data removed]",
      "text/plain": [
       "<Figure size 432x288 with 1 Axes>"
      ]
     },
     "metadata": {
      "needs_background": "light"
     },
     "output_type": "display_data"
    }
   ],
   "source": [
    "sns.barplot(data=train_df, x='engine-type', y='engine-size', ci=None)"
   ]
  },
  {
   "cell_type": "code",
   "execution_count": 888,
   "id": "01553f1c",
   "metadata": {},
   "outputs": [
    {
     "data": {
      "text/plain": [
       "<seaborn.axisgrid.FacetGrid at 0x24ea43211c0>"
      ]
     },
     "execution_count": 888,
     "metadata": {},
     "output_type": "execute_result"
    },
    {
     "data": {
      "image/png": "[encoded data removed]",
      "text/plain": [
       "<Figure size 4752x216 with 22 Axes>"
      ]
     },
     "metadata": {
      "needs_background": "light"
     },
     "output_type": "display_data"
    }
   ],
   "source": [
    "grid = sns.FacetGrid(train_df, col='make')\n",
    "grid.map(sns.countplot, 'num-of-doors')"
   ]
  },
  {
   "cell_type": "code",
   "execution_count": 636,
   "id": "22e719b1",
   "metadata": {},
   "outputs": [
    {
     "data": {
      "text/plain": [
       "<seaborn.axisgrid.FacetGrid at 0x24ea1372400>"
      ]
     },
     "execution_count": 636,
     "metadata": {},
     "output_type": "execute_result"
    },
    {
     "data": {
      "image/png": "[encoded data removed]",
      "text/plain": [
       "<Figure size 1296x216 with 6 Axes>"
      ]
     },
     "metadata": {
      "needs_background": "light"
     },
     "output_type": "display_data"
    }
   ],
   "source": [
    "grid = sns.FacetGrid(train_df, col='engine-type')\n",
    "grid.map(sns.countplot, 'horsepower')"
   ]
  },
  {
   "cell_type": "code",
   "execution_count": 637,
   "id": "86603ca2",
   "metadata": {},
   "outputs": [
    {
     "data": {
      "image/png": "[encoded data removed]",
      "text/plain": [
       "<Figure size 432x288 with 1 Axes>"
      ]
     },
     "metadata": {
      "needs_background": "light"
     },
     "output_type": "display_data"
    }
   ],
   "source": [
    "plt.xticks(rotation=90, size=12)\n",
    "sns.barplot(data=train_df, x= 'make', y='price', ci=None)\n",
    "plt.yticks(ticks=np.arange(0, 40000 , 5000), size=12)\n",
    "plt.xlabel(xlabel='Make', size=14)\n",
    "plt.ylabel(ylabel='Price', size=14)\n",
    "plt.show()"
   ]
  },
  {
   "cell_type": "markdown",
   "id": "9ca8c2ec",
   "metadata": {},
   "source": [
    "**Using LabelEncoder:**"
   ]
  },
  {
   "cell_type": "code",
   "execution_count": 639,
   "id": "b35ed318",
   "metadata": {},
   "outputs": [],
   "source": [
    "from sklearn.preprocessing import LabelEncoder"
   ]
  },
  {
   "cell_type": "code",
   "execution_count": 640,
   "id": "1b82fb37",
   "metadata": {},
   "outputs": [],
   "source": [
    "le = LabelEncoder()"
   ]
  },
  {
   "cell_type": "code",
   "execution_count": 641,
   "id": "4b5aac1f",
   "metadata": {},
   "outputs": [],
   "source": [
    "train_df['normalized-losses'] = le.fit_transform(train_df['normalized-losses'])\n",
    "train_df['fuel-type'] = le.fit_transform(train_df['fuel-type'])\n",
    "train_df['make'] = le.fit_transform(train_df['make'])\n",
    "train_df['aspiration'] = le.fit_transform(train_df['aspiration'])\n",
    "train_df['num-of-doors'] = le.fit_transform(train_df['num-of-doors'])\n",
    "train_df['body-style'] = le.fit_transform(train_df['body-style'])\n",
    "train_df['drive-wheels'] = le.fit_transform(train_df['drive-wheels'])\n",
    "train_df['engine-location'] = le.fit_transform(train_df['engine-location'])\n",
    "train_df['engine-type'] = le.fit_transform(train_df['engine-type'])\n",
    "train_df['num-of-cylinders'] = le.fit_transform(train_df['num-of-cylinders'])\n",
    "train_df['fuel-system'] = le.fit_transform(train_df['fuel-system'])\n",
    "train_df['bore'] = le.fit_transform(train_df['bore'])\n",
    "train_df['stroke'] = le.fit_transform(train_df['stroke'])\n",
    "train_df['horsepower'] = le.fit_transform(train_df['horsepower'])\n",
    "train_df['peak-rpm'] = le.fit_transform(train_df['peak-rpm'])"
   ]
  },
  {
   "cell_type": "code",
   "execution_count": 642,
   "id": "5fe24380",
   "metadata": {},
   "outputs": [
    {
     "data": {
      "text/plain": [
       "ID                     int64\n",
       "symboling              int64\n",
       "normalized-losses      int32\n",
       "make                   int32\n",
       "fuel-type              int32\n",
       "aspiration             int32\n",
       "num-of-doors           int32\n",
       "body-style             int32\n",
       "drive-wheels           int32\n",
       "engine-location        int32\n",
       "wheel-base           float64\n",
       "length               float64\n",
       "width                float64\n",
       "height               float64\n",
       "curb-weight            int64\n",
       "engine-type            int32\n",
       "num-of-cylinders       int32\n",
       "engine-size          float64\n",
       "fuel-system            int32\n",
       "bore                   int32\n",
       "stroke                 int32\n",
       "compression-ratio    float64\n",
       "horsepower             int32\n",
       "peak-rpm               int32\n",
       "city-mpg               int64\n",
       "highway-mpg            int64\n",
       "price                  int64\n",
       "dtype: object"
      ]
     },
     "execution_count": 642,
     "metadata": {},
     "output_type": "execute_result"
    }
   ],
   "source": [
    "train_df.dtypes"
   ]
  },
  {
   "cell_type": "code",
   "execution_count": 643,
   "id": "f97ef56d",
   "metadata": {},
   "outputs": [
    {
     "data": {
      "text/plain": [
       "ID                   0.000000\n",
       "symboling            0.234524\n",
       "normalized-losses   -0.156028\n",
       "make                -0.242711\n",
       "fuel-type           -2.699358\n",
       "aspiration           1.611769\n",
       "num-of-doors         0.104289\n",
       "body-style          -0.675279\n",
       "drive-wheels        -0.021960\n",
       "engine-location      7.636422\n",
       "wheel-base           0.910916\n",
       "length               0.166488\n",
       "width                0.854458\n",
       "height               0.067838\n",
       "curb-weight          0.717686\n",
       "engine-type          0.528924\n",
       "num-of-cylinders     2.259209\n",
       "engine-size          0.967987\n",
       "fuel-system         -0.226059\n",
       "bore                 0.088166\n",
       "stroke              -0.308046\n",
       "compression-ratio    2.582607\n",
       "horsepower          -0.272838\n",
       "peak-rpm            -0.209156\n",
       "city-mpg             0.742139\n",
       "highway-mpg          0.586904\n",
       "price                1.828445\n",
       "dtype: float64"
      ]
     },
     "execution_count": 643,
     "metadata": {},
     "output_type": "execute_result"
    }
   ],
   "source": [
    "train_df.skew()"
   ]
  },
  {
   "cell_type": "code",
   "execution_count": 644,
   "id": "de201453",
   "metadata": {},
   "outputs": [
    {
     "data": {
      "text/plain": [
       "<AxesSubplot:xlabel='engine-location'>"
      ]
     },
     "execution_count": 644,
     "metadata": {},
     "output_type": "execute_result"
    },
    {
     "data": {
      "image/png": "[encoded data removed]",
      "text/plain": [
       "<Figure size 432x288 with 1 Axes>"
      ]
     },
     "metadata": {
      "needs_background": "light"
     },
     "output_type": "display_data"
    }
   ],
   "source": [
    "sns.boxplot(train_df['engine-location'])"
   ]
  },
  {
   "cell_type": "code",
   "execution_count": 645,
   "id": "75e1956b",
   "metadata": {},
   "outputs": [],
   "source": [
    "def Outliers(train_df, var):\n",
    "    Q1 = train_df['engine-location'].quantile(0.25)\n",
    "    Q3 = train_df['engine-location'].quantile(0.75)\n",
    "    IQR = Q3-Q1\n",
    "    Lower = Q1-(1.5*IQR)\n",
    "    Upper = Q3+(1.5*IQR)\n",
    "    \n",
    "    return Lower, Upper"
   ]
  },
  {
   "cell_type": "code",
   "execution_count": 646,
   "id": "9b78f221",
   "metadata": {},
   "outputs": [],
   "source": [
    "lower_loc, upper_loc = Outliers(train_df, 'engine-location')"
   ]
  },
  {
   "cell_type": "code",
   "execution_count": 647,
   "id": "c1d057a6",
   "metadata": {},
   "outputs": [],
   "source": [
    "train_df['engine-location'] = np.where(train_df['engine-location'] > upper_loc, upper_loc, np.where(train_df['engine-location'] < \n",
    "                                                                                           lower_loc, lower_loc, train_df['engine-location']))"
   ]
  },
  {
   "cell_type": "code",
   "execution_count": 648,
   "id": "51283427",
   "metadata": {},
   "outputs": [
    {
     "data": {
      "text/plain": [
       "<AxesSubplot:xlabel='engine-location'>"
      ]
     },
     "execution_count": 648,
     "metadata": {},
     "output_type": "execute_result"
    },
    {
     "data": {
      "image/png": "[encoded data removed]",
      "text/plain": [
       "<Figure size 432x288 with 1 Axes>"
      ]
     },
     "metadata": {
      "needs_background": "light"
     },
     "output_type": "display_data"
    }
   ],
   "source": [
    "sns.boxplot(train_df['engine-location'])"
   ]
  },
  {
   "cell_type": "code",
   "execution_count": 649,
   "id": "8def4aa7",
   "metadata": {},
   "outputs": [
    {
     "data": {
      "text/plain": [
       "<AxesSubplot:xlabel='fuel-type'>"
      ]
     },
     "execution_count": 649,
     "metadata": {},
     "output_type": "execute_result"
    },
    {
     "data": {
      "image/png": "[encoded data removed]",
      "text/plain": [
       "<Figure size 432x288 with 1 Axes>"
      ]
     },
     "metadata": {
      "needs_background": "light"
     },
     "output_type": "display_data"
    }
   ],
   "source": [
    "sns.boxplot(train_df['fuel-type'])"
   ]
  },
  {
   "cell_type": "code",
   "execution_count": 650,
   "id": "e3adfac5",
   "metadata": {},
   "outputs": [],
   "source": [
    "def Outliers(train_df, var):\n",
    "    Q1 = train_df['fuel-type'].quantile(0.25)\n",
    "    Q3 = train_df['fuel-type'].quantile(0.75)\n",
    "    IQR = Q3-Q1\n",
    "    Lower = Q1-(1.5*IQR)\n",
    "    Upper = Q3+(1.5*IQR)\n",
    "    \n",
    "    return Lower, Upper"
   ]
  },
  {
   "cell_type": "code",
   "execution_count": 651,
   "id": "c1cc9521",
   "metadata": {},
   "outputs": [],
   "source": [
    "lower_type, upper_type = Outliers(train_df, 'fuel-type')"
   ]
  },
  {
   "cell_type": "code",
   "execution_count": 652,
   "id": "c94232e4",
   "metadata": {},
   "outputs": [],
   "source": [
    "train_df['fuel-type'] = np.where(train_df['fuel-type'] > upper_type, upper_type, np.where(train_df['fuel-type'] < \n",
    "                                                                                           lower_type, lower_type, train_df['fuel-type']))"
   ]
  },
  {
   "cell_type": "code",
   "execution_count": 653,
   "id": "2013b962",
   "metadata": {},
   "outputs": [
    {
     "data": {
      "text/plain": [
       "<AxesSubplot:xlabel='fuel-type'>"
      ]
     },
     "execution_count": 653,
     "metadata": {},
     "output_type": "execute_result"
    },
    {
     "data": {
      "image/png": "[encoded data removed]",
      "text/plain": [
       "<Figure size 432x288 with 1 Axes>"
      ]
     },
     "metadata": {
      "needs_background": "light"
     },
     "output_type": "display_data"
    }
   ],
   "source": [
    "sns.boxplot(train_df['fuel-type'])"
   ]
  },
  {
   "cell_type": "code",
   "execution_count": 654,
   "id": "5f858cf7",
   "metadata": {},
   "outputs": [
    {
     "data": {
      "text/plain": [
       "<AxesSubplot:xlabel='aspiration'>"
      ]
     },
     "execution_count": 654,
     "metadata": {},
     "output_type": "execute_result"
    },
    {
     "data": {
      "image/png": "[encoded data removed]",
      "text/plain": [
       "<Figure size 432x288 with 1 Axes>"
      ]
     },
     "metadata": {
      "needs_background": "light"
     },
     "output_type": "display_data"
    }
   ],
   "source": [
    "sns.boxplot(train_df['aspiration'])"
   ]
  },
  {
   "cell_type": "code",
   "execution_count": 655,
   "id": "24e8b3bf",
   "metadata": {},
   "outputs": [],
   "source": [
    "def Outliers(train_df, var):\n",
    "    Q1 = train_df['aspiration'].quantile(0.25)\n",
    "    Q3 = train_df['aspiration'].quantile(0.75)\n",
    "    IQR = Q3-Q1\n",
    "    Lower = Q1-(1.5*IQR)\n",
    "    Upper = Q3+(1.5*IQR)\n",
    "    \n",
    "    return Lower, Upper"
   ]
  },
  {
   "cell_type": "code",
   "execution_count": 656,
   "id": "3030f19a",
   "metadata": {},
   "outputs": [],
   "source": [
    "lower_asp, upper_asp = Outliers(train_df, 'aspiration')"
   ]
  },
  {
   "cell_type": "code",
   "execution_count": 657,
   "id": "02a687df",
   "metadata": {},
   "outputs": [],
   "source": [
    "train_df['aspiration'] = np.where(train_df['aspiration'] > upper_asp, upper_asp, np.where(train_df['aspiration'] < \n",
    "                                                                                           lower_asp, lower_asp, train_df['aspiration']))"
   ]
  },
  {
   "cell_type": "code",
   "execution_count": 658,
   "id": "b6be342e",
   "metadata": {},
   "outputs": [
    {
     "data": {
      "text/plain": [
       "<AxesSubplot:xlabel='aspiration'>"
      ]
     },
     "execution_count": 658,
     "metadata": {},
     "output_type": "execute_result"
    },
    {
     "data": {
      "image/png": "[encoded data removed]",
      "text/plain": [
       "<Figure size 432x288 with 1 Axes>"
      ]
     },
     "metadata": {
      "needs_background": "light"
     },
     "output_type": "display_data"
    }
   ],
   "source": [
    "sns.boxplot(train_df['aspiration'])"
   ]
  },
  {
   "cell_type": "code",
   "execution_count": 659,
   "id": "32ef57bb",
   "metadata": {},
   "outputs": [
    {
     "data": {
      "text/plain": [
       "<AxesSubplot:xlabel='num-of-cylinders'>"
      ]
     },
     "execution_count": 659,
     "metadata": {},
     "output_type": "execute_result"
    },
    {
     "data": {
      "image/png": "[encoded data removed]",
      "text/plain": [
       "<Figure size 432x288 with 1 Axes>"
      ]
     },
     "metadata": {
      "needs_background": "light"
     },
     "output_type": "display_data"
    }
   ],
   "source": [
    "sns.boxplot(train_df['num-of-cylinders'])"
   ]
  },
  {
   "cell_type": "code",
   "execution_count": 660,
   "id": "56e59220",
   "metadata": {},
   "outputs": [],
   "source": [
    "def Outliers(train_df, var):\n",
    "    Q1 = train_df['num-of-cylinders'].quantile(0.25)\n",
    "    Q3 = train_df['num-of-cylinders'].quantile(0.75)\n",
    "    IQR = Q3-Q1\n",
    "    Lower = Q1-(1.5*IQR)\n",
    "    Upper = Q3+(1.5*IQR)\n",
    "    \n",
    "    return Lower, Upper"
   ]
  },
  {
   "cell_type": "code",
   "execution_count": 661,
   "id": "f544065b",
   "metadata": {},
   "outputs": [],
   "source": [
    "lower_cyn, upper_cyn = Outliers(train_df, 'num-of-cylinders')"
   ]
  },
  {
   "cell_type": "code",
   "execution_count": 662,
   "id": "ba17df9d",
   "metadata": {},
   "outputs": [],
   "source": [
    "train_df['num-of-cylinders'] = np.where(train_df['num-of-cylinders'] > upper_cyn, upper_cyn, np.where(train_df['num-of-cylinders'] < \n",
    "                                                                                           lower_cyn, lower_cyn, train_df['num-of-cylinders']))"
   ]
  },
  {
   "cell_type": "code",
   "execution_count": 663,
   "id": "6438f465",
   "metadata": {},
   "outputs": [
    {
     "data": {
      "text/plain": [
       "<AxesSubplot:xlabel='num-of-cylinders'>"
      ]
     },
     "execution_count": 663,
     "metadata": {},
     "output_type": "execute_result"
    },
    {
     "data": {
      "image/png": "[encoded data removed]",
      "text/plain": [
       "<Figure size 432x288 with 1 Axes>"
      ]
     },
     "metadata": {
      "needs_background": "light"
     },
     "output_type": "display_data"
    }
   ],
   "source": [
    "sns.boxplot(train_df['num-of-cylinders'])"
   ]
  },
  {
   "cell_type": "code",
   "execution_count": 664,
   "id": "002660d0",
   "metadata": {},
   "outputs": [
    {
     "data": {
      "text/plain": [
       "<AxesSubplot:xlabel='compression-ratio'>"
      ]
     },
     "execution_count": 664,
     "metadata": {},
     "output_type": "execute_result"
    },
    {
     "data": {
      "image/png": "[encoded data removed]",
      "text/plain": [
       "<Figure size 432x288 with 1 Axes>"
      ]
     },
     "metadata": {
      "needs_background": "light"
     },
     "output_type": "display_data"
    }
   ],
   "source": [
    "sns.boxplot(train_df['compression-ratio'])"
   ]
  },
  {
   "cell_type": "code",
   "execution_count": 665,
   "id": "ad35b3cd",
   "metadata": {},
   "outputs": [],
   "source": [
    "def Outliers(train_df, var):\n",
    "    Q1 = train_df['compression-ratio'].quantile(0.25)\n",
    "    Q3 = train_df['compression-ratio'].quantile(0.75)\n",
    "    IQR = Q3-Q1\n",
    "    Lower = Q1-(1.5*IQR)\n",
    "    Upper = Q3+(1.5*IQR)\n",
    "    \n",
    "    return Lower, Upper"
   ]
  },
  {
   "cell_type": "code",
   "execution_count": 666,
   "id": "fc0985f0",
   "metadata": {},
   "outputs": [],
   "source": [
    "lower_ratio, upper_ratio = Outliers(train_df, 'compression-ratio')"
   ]
  },
  {
   "cell_type": "code",
   "execution_count": 668,
   "id": "a0e74b43",
   "metadata": {},
   "outputs": [],
   "source": [
    "train_df['compression-ratio'] = np.where(train_df['compression-ratio'] > upper_ratio, upper_ratio, np.where(train_df['compression-ratio'] < \n",
    "                                                                                           lower_ratio, lower_ratio, train_df['compression-ratio']))"
   ]
  },
  {
   "cell_type": "code",
   "execution_count": 669,
   "id": "9fd974b5",
   "metadata": {},
   "outputs": [
    {
     "data": {
      "text/plain": [
       "<AxesSubplot:xlabel='compression-ratio'>"
      ]
     },
     "execution_count": 669,
     "metadata": {},
     "output_type": "execute_result"
    },
    {
     "data": {
      "image/png": "[encoded data removed]",
      "text/plain": [
       "<Figure size 432x288 with 1 Axes>"
      ]
     },
     "metadata": {
      "needs_background": "light"
     },
     "output_type": "display_data"
    }
   ],
   "source": [
    "sns.boxplot(train_df['compression-ratio'])"
   ]
  },
  {
   "cell_type": "code",
   "execution_count": 670,
   "id": "1f4195b6",
   "metadata": {},
   "outputs": [
    {
     "data": {
      "text/plain": [
       "<AxesSubplot:xlabel='price'>"
      ]
     },
     "execution_count": 670,
     "metadata": {},
     "output_type": "execute_result"
    },
    {
     "data": {
      "image/png": "[encoded data removed]",
      "text/plain": [
       "<Figure size 432x288 with 1 Axes>"
      ]
     },
     "metadata": {
      "needs_background": "light"
     },
     "output_type": "display_data"
    }
   ],
   "source": [
    "sns.boxplot(train_df['price'])"
   ]
  },
  {
   "cell_type": "code",
   "execution_count": 671,
   "id": "e74ea101",
   "metadata": {},
   "outputs": [],
   "source": [
    "def Outliers(train_df, var):\n",
    "    Q1 = train_df['price'].quantile(0.25)\n",
    "    Q3 = train_df['price'].quantile(0.75)\n",
    "    IQR = Q3-Q1\n",
    "    Lower = Q1-(1.5*IQR)\n",
    "    Upper = Q3+(1.5*IQR)\n",
    "    \n",
    "    return Lower, Upper"
   ]
  },
  {
   "cell_type": "code",
   "execution_count": 672,
   "id": "19c8790f",
   "metadata": {},
   "outputs": [],
   "source": [
    "lower_price, upper_price = Outliers(train_df, 'price')"
   ]
  },
  {
   "cell_type": "code",
   "execution_count": 673,
   "id": "acf2593a",
   "metadata": {},
   "outputs": [],
   "source": [
    "train_df['price'] = np.where(train_df['price'] > upper_price, upper_price, np.where(train_df['price'] < \n",
    "                                                                                           lower_price, lower_price, train_df['price']))"
   ]
  },
  {
   "cell_type": "code",
   "execution_count": 674,
   "id": "b6185af7",
   "metadata": {},
   "outputs": [
    {
     "data": {
      "text/plain": [
       "<AxesSubplot:xlabel='price'>"
      ]
     },
     "execution_count": 674,
     "metadata": {},
     "output_type": "execute_result"
    },
    {
     "data": {
      "image/png": "[encoded data removed]",
      "text/plain": [
       "<Figure size 432x288 with 1 Axes>"
      ]
     },
     "metadata": {
      "needs_background": "light"
     },
     "output_type": "display_data"
    }
   ],
   "source": [
    "sns.boxplot(train_df['price'])"
   ]
  },
  {
   "cell_type": "code",
   "execution_count": 675,
   "id": "64734b34",
   "metadata": {},
   "outputs": [
    {
     "data": {
      "text/plain": [
       "ID                   0.000000\n",
       "symboling            0.234524\n",
       "normalized-losses   -0.156028\n",
       "make                -0.242711\n",
       "fuel-type            0.000000\n",
       "aspiration           0.000000\n",
       "num-of-doors         0.104289\n",
       "body-style          -0.675279\n",
       "drive-wheels        -0.021960\n",
       "engine-location      0.000000\n",
       "wheel-base           0.910916\n",
       "length               0.166488\n",
       "width                0.854458\n",
       "height               0.067838\n",
       "curb-weight          0.717686\n",
       "engine-type          0.528924\n",
       "num-of-cylinders     0.000000\n",
       "engine-size          0.967987\n",
       "fuel-system         -0.226059\n",
       "bore                 0.088166\n",
       "stroke              -0.308046\n",
       "compression-ratio    0.070280\n",
       "horsepower          -0.272838\n",
       "peak-rpm            -0.209156\n",
       "city-mpg             0.742139\n",
       "highway-mpg          0.586904\n",
       "price                1.249675\n",
       "dtype: float64"
      ]
     },
     "execution_count": 675,
     "metadata": {},
     "output_type": "execute_result"
    }
   ],
   "source": [
    "train_df.skew()"
   ]
  },
  {
   "cell_type": "markdown",
   "id": "74f0de7b",
   "metadata": {},
   "source": [
    "**Train test Split:**"
   ]
  },
  {
   "cell_type": "code",
   "execution_count": 678,
   "id": "053c5dd6",
   "metadata": {},
   "outputs": [],
   "source": [
    "x = train_df.iloc[:, 1:26]\n",
    "y = train_df['price']"
   ]
  },
  {
   "cell_type": "code",
   "execution_count": 679,
   "id": "ac9b397b",
   "metadata": {},
   "outputs": [],
   "source": [
    "from sklearn.model_selection import train_test_split"
   ]
  },
  {
   "cell_type": "code",
   "execution_count": 792,
   "id": "a6ad1e90",
   "metadata": {},
   "outputs": [],
   "source": [
    "x_train, x_test, y_train, y_test =  train_test_split(x,y, test_size = 0.2, random_state = 1)"
   ]
  },
  {
   "cell_type": "code",
   "execution_count": 793,
   "id": "41340349",
   "metadata": {},
   "outputs": [
    {
     "name": "stdout",
     "output_type": "stream",
     "text": [
      "(144, 25)\n",
      "(37, 25)\n",
      "(144,)\n",
      "(37,)\n"
     ]
    }
   ],
   "source": [
    "print(x_train.shape)\n",
    "print(x_test.shape)\n",
    "print(y_train.shape)\n",
    "print(y_test.shape)\n"
   ]
  },
  {
   "cell_type": "markdown",
   "id": "45d62d53",
   "metadata": {},
   "source": [
    "# Linear Regression :"
   ]
  },
  {
   "cell_type": "code",
   "execution_count": 867,
   "id": "82c396f1",
   "metadata": {},
   "outputs": [],
   "source": [
    "from sklearn.linear_model import LinearRegression"
   ]
  },
  {
   "cell_type": "code",
   "execution_count": 868,
   "id": "219c5f78",
   "metadata": {},
   "outputs": [],
   "source": [
    "model = LinearRegression()"
   ]
  },
  {
   "cell_type": "code",
   "execution_count": 869,
   "id": "61f05668",
   "metadata": {},
   "outputs": [
    {
     "data": {
      "text/plain": [
       "LinearRegression()"
      ]
     },
     "execution_count": 869,
     "metadata": {},
     "output_type": "execute_result"
    }
   ],
   "source": [
    "model.fit(x_train, y_train)"
   ]
  },
  {
   "cell_type": "markdown",
   "id": "5b64dd95",
   "metadata": {},
   "source": [
    "**Predicting on train data:**"
   ]
  },
  {
   "cell_type": "code",
   "execution_count": 870,
   "id": "f9869ca8",
   "metadata": {},
   "outputs": [],
   "source": [
    "y_pred_train = model.predict(x_train)"
   ]
  },
  {
   "cell_type": "code",
   "execution_count": 871,
   "id": "b023f5af",
   "metadata": {},
   "outputs": [
    {
     "data": {
      "text/plain": [
       "array([13212.06933539, 17023.70721108,  8938.53197536, 19355.27037376,\n",
       "       10370.77479782,  6328.94343263, 14140.69307714, 13674.96521355,\n",
       "       26753.49822578, 14063.32952969,  6644.57367589, 21724.67224598,\n",
       "        9201.74702387, 14127.19601651, 19034.87695594,  7149.3216868 ,\n",
       "       14640.356589  ,  9643.87825591, 31406.50323204,  8286.35886398,\n",
       "       17747.12272997,  4634.88844412, 23703.25566026,  9464.82023343,\n",
       "        7147.28847475, 26465.89980273, 19225.53442677, 15926.59595769,\n",
       "       21174.41534006, 10534.92532209, 26307.07596461, 22712.38348621,\n",
       "        8211.86608314,  8059.99530144, 19851.32682421, 18160.46242072,\n",
       "        6808.3181542 , 19852.94431921,  8493.64861086,  4714.41396301,\n",
       "        6948.34325438, 10112.37250018,  7228.02408045, 25689.18618251,\n",
       "        5676.69423896, 11959.89494079, 14152.07795132,  7918.33114889,\n",
       "       25937.98394722,  8318.72825769,  8505.31989032, 12647.40516447,\n",
       "        7649.09134062,  1209.30497127,  7407.30729106,  7092.5746353 ,\n",
       "        8952.74109318, 19436.01523033,  8994.70353762, 17911.40626632,\n",
       "       11617.15031101, 19461.84943571,  7877.62188311, 18492.34604161,\n",
       "        6027.26252202,  7235.66537818, 10265.74130438, 10096.94922192,\n",
       "       18194.22519248,  7422.82073298,  6943.76167963, 16965.35494827,\n",
       "        6641.33139744, 18074.14591205, 18037.24295458, 10030.93257837,\n",
       "       10775.10791983, 11996.31946919,  8361.78553669,  7324.06504099,\n",
       "        8826.57444903, 24943.1181664 , 25090.19919021, 18852.07988279,\n",
       "       11207.91978442, 15617.1962909 ,  8727.94272269, 15318.34432975,\n",
       "       10878.98723576, 28449.29284837, 19869.2106985 ,  8198.6920216 ,\n",
       "        8914.96376155, 10174.67994855,  6372.48038971, 14178.23055861,\n",
       "        5820.02891285, 14158.32501076, 14677.73126768,  4224.15595877,\n",
       "        9561.89751965,  7407.30729106, 17637.70498339,  5738.84359193,\n",
       "       25057.28427593,  8368.37058918, 13673.91627663,  6803.05608984,\n",
       "        7811.95677642, 18074.14591205,  6927.00742035,  9775.04282549,\n",
       "        7130.61725064, 17568.60470154, 17558.68062669,  4677.52663542,\n",
       "       15425.33998632,  9871.23537324, 17239.0562312 , 23703.25566026,\n",
       "        5662.97500874, 11943.00640355, 28375.7616875 , 13648.43776748,\n",
       "       13460.26394383, 10112.37250018, 20925.45650404,  8688.73937084,\n",
       "       10331.34566585, 20376.02971586,  7954.27378204,  8078.64348639,\n",
       "       14552.38435747, 15035.01896594, 14454.20545576, 19034.04001977,\n",
       "        6715.7779932 ,  7139.43804009,  7058.28547151,  9329.07401457,\n",
       "       12117.44290518, 15025.60855084,  7251.95301498, 18494.82730738])"
      ]
     },
     "execution_count": 871,
     "metadata": {},
     "output_type": "execute_result"
    }
   ],
   "source": [
    "y_pred_train"
   ]
  },
  {
   "cell_type": "markdown",
   "id": "5f590f86",
   "metadata": {},
   "source": [
    "**Predicting on Test data:**"
   ]
  },
  {
   "cell_type": "code",
   "execution_count": 872,
   "id": "0e588d04",
   "metadata": {},
   "outputs": [],
   "source": [
    "y_pred_test = model.predict(x_test)"
   ]
  },
  {
   "cell_type": "code",
   "execution_count": 873,
   "id": "1dbe3088",
   "metadata": {},
   "outputs": [
    {
     "data": {
      "text/plain": [
       "array([ 7597.64249067,  8348.20475683,  5607.37769954,  7800.05814479,\n",
       "        9709.6113283 , 10854.10530095, 27316.07448611,  3080.76889805,\n",
       "        5655.80814309, 17911.40626632,  8392.15586502,  8159.35059493,\n",
       "        7470.2017187 , 27886.93396956, 17307.71019023,  9910.93143955,\n",
       "       19837.91972003, 18846.43145743, 27957.26741373,  7458.42794364,\n",
       "        8080.2426363 , 19596.33203287, 14680.08876992, 10370.77479782,\n",
       "       10854.10530095,  7339.5750186 ,  7978.42990109, 18698.16659066,\n",
       "       10414.36249316,  8692.70408935,  6619.69174108,  5269.94986265,\n",
       "        7532.28533003,  5578.48585431,  8417.90840315, 14023.22041025,\n",
       "       14869.94834637])"
      ]
     },
     "execution_count": 873,
     "metadata": {},
     "output_type": "execute_result"
    }
   ],
   "source": [
    "y_pred_test"
   ]
  },
  {
   "cell_type": "code",
   "execution_count": 874,
   "id": "66a61c5e",
   "metadata": {
    "scrolled": true
   },
   "outputs": [
    {
     "data": {
      "text/plain": [
       "Text(0, 0.5, 'Predicted Values')"
      ]
     },
     "execution_count": 874,
     "metadata": {},
     "output_type": "execute_result"
    },
    {
     "data": {
      "image/png": "[encoded data removed]",
      "text/plain": [
       "<Figure size 432x288 with 1 Axes>"
      ]
     },
     "metadata": {
      "needs_background": "light"
     },
     "output_type": "display_data"
    }
   ],
   "source": [
    "sns.regplot(y_test,y_pred_test)\n",
    "plt.xlabel('Actual Values')\n",
    "plt.ylabel('Predicted Values')"
   ]
  },
  {
   "cell_type": "markdown",
   "id": "94b5edec",
   "metadata": {},
   "source": [
    "**Model Evaluation:**"
   ]
  },
  {
   "cell_type": "code",
   "execution_count": 875,
   "id": "de121008",
   "metadata": {},
   "outputs": [],
   "source": [
    "from sklearn import metrics"
   ]
  },
  {
   "cell_type": "code",
   "execution_count": 876,
   "id": "34ee80f6",
   "metadata": {},
   "outputs": [],
   "source": [
    "MAE_train = metrics.mean_absolute_error(y_train, y_pred_train)\n",
    "MAE_test = metrics.mean_absolute_error(y_test, y_pred_test)"
   ]
  },
  {
   "cell_type": "code",
   "execution_count": 877,
   "id": "365a0cfc",
   "metadata": {},
   "outputs": [
    {
     "name": "stdout",
     "output_type": "stream",
     "text": [
      "MAE for training set is 1841.4632620708257\n",
      "MAE for test set is 1536.0751655469428\n"
     ]
    }
   ],
   "source": [
    "print('MAE for training set is {}'.format(MAE_train))\n",
    "print('MAE for test set is {}'.format(MAE_test))"
   ]
  },
  {
   "cell_type": "code",
   "execution_count": 878,
   "id": "e95e3dc0",
   "metadata": {},
   "outputs": [],
   "source": [
    "MSE_train = metrics.mean_squared_error(y_train, y_pred_train)\n",
    "MSE_test = metrics.mean_squared_error(y_test, y_pred_test)"
   ]
  },
  {
   "cell_type": "code",
   "execution_count": 879,
   "id": "86c2c446",
   "metadata": {},
   "outputs": [
    {
     "name": "stdout",
     "output_type": "stream",
     "text": [
      "MSE for training set is 5502534.0368302725\n",
      "MSE for test set is 4395920.955119213\n"
     ]
    }
   ],
   "source": [
    "print('MSE for training set is {}'.format(MSE_train))\n",
    "print('MSE for test set is {}'.format(MSE_test))"
   ]
  },
  {
   "cell_type": "code",
   "execution_count": 880,
   "id": "b6f166d9",
   "metadata": {},
   "outputs": [],
   "source": [
    "RMSE_train = np.sqrt( metrics.mean_squared_error(y_train, y_pred_train))\n",
    "RMSE_test = np.sqrt(metrics.mean_squared_error(y_test, y_pred_test))"
   ]
  },
  {
   "cell_type": "code",
   "execution_count": 881,
   "id": "de01c4ef",
   "metadata": {},
   "outputs": [
    {
     "name": "stdout",
     "output_type": "stream",
     "text": [
      "RMSE for training set is 2345.748076164675\n",
      "RMSE for test set is 2096.6451667173474\n"
     ]
    }
   ],
   "source": [
    "print('RMSE for training set is {}'.format(RMSE_train))\n",
    "print('RMSE for test set is {}'.format(RMSE_test))"
   ]
  },
  {
   "cell_type": "code",
   "execution_count": 882,
   "id": "bfb98a57",
   "metadata": {},
   "outputs": [
    {
     "name": "stdout",
     "output_type": "stream",
     "text": [
      "R2 score for training set is 0.8776311967814083\n",
      "R2 score for test set is 0.8990632628452853\n"
     ]
    }
   ],
   "source": [
    "r2_train = metrics.r2_score(y_train,y_pred_train)\n",
    "r2_test = metrics.r2_score(y_test,y_pred_test)\n",
    "print(\"R2 score for training set is {}\".format(r2_train))\n",
    "print(\"R2 score for test set is {}\".format(r2_test))"
   ]
  },
  {
   "cell_type": "markdown",
   "id": "4932e1c0",
   "metadata": {},
   "source": [
    "**Test Dataset:**"
   ]
  },
  {
   "cell_type": "code",
   "execution_count": 814,
   "id": "bb6c7ff4",
   "metadata": {},
   "outputs": [
    {
     "data": {
      "text/html": [
       "<div>\n",
       "<style scoped>\n",
       "    .dataframe tbody tr th:only-of-type {\n",
       "        vertical-align: middle;\n",
       "    }\n",
       "\n",
       "    .dataframe tbody tr th {\n",
       "        vertical-align: top;\n",
       "    }\n",
       "\n",
       "    .dataframe thead th {\n",
       "        text-align: right;\n",
       "    }\n",
       "</style>\n",
       "<table border=\"1\" class=\"dataframe\">\n",
       "  <thead>\n",
       "    <tr style=\"text-align: right;\">\n",
       "      <th></th>\n",
       "      <th>ID</th>\n",
       "      <th>symboling</th>\n",
       "      <th>normalized-losses</th>\n",
       "      <th>make</th>\n",
       "      <th>fuel-type</th>\n",
       "      <th>aspiration</th>\n",
       "      <th>num-of-doors</th>\n",
       "      <th>body-style</th>\n",
       "      <th>drive-wheels</th>\n",
       "      <th>engine-location</th>\n",
       "      <th>...</th>\n",
       "      <th>num-of-cylinders</th>\n",
       "      <th>engine-size</th>\n",
       "      <th>fuel-system</th>\n",
       "      <th>bore</th>\n",
       "      <th>stroke</th>\n",
       "      <th>compression-ratio</th>\n",
       "      <th>horsepower</th>\n",
       "      <th>peak-rpm</th>\n",
       "      <th>city-mpg</th>\n",
       "      <th>highway-mpg</th>\n",
       "    </tr>\n",
       "  </thead>\n",
       "  <tbody>\n",
       "    <tr>\n",
       "      <th>0</th>\n",
       "      <td>1</td>\n",
       "      <td>-2</td>\n",
       "      <td>103</td>\n",
       "      <td>volvo</td>\n",
       "      <td>gas</td>\n",
       "      <td>std</td>\n",
       "      <td>four</td>\n",
       "      <td>sedan</td>\n",
       "      <td>rwd</td>\n",
       "      <td>front</td>\n",
       "      <td>...</td>\n",
       "      <td>four</td>\n",
       "      <td>141</td>\n",
       "      <td>mpfi</td>\n",
       "      <td>3.78</td>\n",
       "      <td>3.15</td>\n",
       "      <td>9.5</td>\n",
       "      <td>114</td>\n",
       "      <td>5400</td>\n",
       "      <td>23</td>\n",
       "      <td>28</td>\n",
       "    </tr>\n",
       "    <tr>\n",
       "      <th>1</th>\n",
       "      <td>2</td>\n",
       "      <td>0</td>\n",
       "      <td>188</td>\n",
       "      <td>bmw</td>\n",
       "      <td>gas</td>\n",
       "      <td>std</td>\n",
       "      <td>four</td>\n",
       "      <td>sedan</td>\n",
       "      <td>rwd</td>\n",
       "      <td>front</td>\n",
       "      <td>...</td>\n",
       "      <td>six</td>\n",
       "      <td>164</td>\n",
       "      <td>mpfi</td>\n",
       "      <td>3.31</td>\n",
       "      <td>3.19</td>\n",
       "      <td>9.0</td>\n",
       "      <td>121</td>\n",
       "      <td>4250</td>\n",
       "      <td>21</td>\n",
       "      <td>28</td>\n",
       "    </tr>\n",
       "    <tr>\n",
       "      <th>2</th>\n",
       "      <td>3</td>\n",
       "      <td>-1</td>\n",
       "      <td>74</td>\n",
       "      <td>volvo</td>\n",
       "      <td>gas</td>\n",
       "      <td>turbo</td>\n",
       "      <td>four</td>\n",
       "      <td>wagon</td>\n",
       "      <td>rwd</td>\n",
       "      <td>front</td>\n",
       "      <td>...</td>\n",
       "      <td>four</td>\n",
       "      <td>130</td>\n",
       "      <td>mpfi</td>\n",
       "      <td>3.62</td>\n",
       "      <td>3.15</td>\n",
       "      <td>7.5</td>\n",
       "      <td>162</td>\n",
       "      <td>5100</td>\n",
       "      <td>17</td>\n",
       "      <td>22</td>\n",
       "    </tr>\n",
       "    <tr>\n",
       "      <th>3</th>\n",
       "      <td>4</td>\n",
       "      <td>1</td>\n",
       "      <td>154</td>\n",
       "      <td>plymouth</td>\n",
       "      <td>gas</td>\n",
       "      <td>std</td>\n",
       "      <td>four</td>\n",
       "      <td>sedan</td>\n",
       "      <td>fwd</td>\n",
       "      <td>front</td>\n",
       "      <td>...</td>\n",
       "      <td>four</td>\n",
       "      <td>90</td>\n",
       "      <td>2bbl</td>\n",
       "      <td>2.97</td>\n",
       "      <td>3.23</td>\n",
       "      <td>9.4</td>\n",
       "      <td>68</td>\n",
       "      <td>5500</td>\n",
       "      <td>31</td>\n",
       "      <td>38</td>\n",
       "    </tr>\n",
       "    <tr>\n",
       "      <th>4</th>\n",
       "      <td>5</td>\n",
       "      <td>1</td>\n",
       "      <td>103</td>\n",
       "      <td>nissan</td>\n",
       "      <td>gas</td>\n",
       "      <td>std</td>\n",
       "      <td>four</td>\n",
       "      <td>wagon</td>\n",
       "      <td>fwd</td>\n",
       "      <td>front</td>\n",
       "      <td>...</td>\n",
       "      <td>four</td>\n",
       "      <td>97</td>\n",
       "      <td>2bbl</td>\n",
       "      <td>3.15</td>\n",
       "      <td>3.29</td>\n",
       "      <td>9.4</td>\n",
       "      <td>69</td>\n",
       "      <td>5200</td>\n",
       "      <td>31</td>\n",
       "      <td>37</td>\n",
       "    </tr>\n",
       "  </tbody>\n",
       "</table>\n",
       "<p>5 rows × 26 columns</p>\n",
       "</div>"
      ],
      "text/plain": [
       "   ID  symboling normalized-losses      make fuel-type aspiration  \\\n",
       "0   1         -2               103     volvo       gas        std   \n",
       "1   2          0               188       bmw       gas        std   \n",
       "2   3         -1                74     volvo       gas      turbo   \n",
       "3   4          1               154  plymouth       gas        std   \n",
       "4   5          1               103    nissan       gas        std   \n",
       "\n",
       "  num-of-doors body-style drive-wheels engine-location  ...  num-of-cylinders  \\\n",
       "0         four      sedan          rwd           front  ...              four   \n",
       "1         four      sedan          rwd           front  ...               six   \n",
       "2         four      wagon          rwd           front  ...              four   \n",
       "3         four      sedan          fwd           front  ...              four   \n",
       "4         four      wagon          fwd           front  ...              four   \n",
       "\n",
       "   engine-size  fuel-system  bore  stroke compression-ratio horsepower  \\\n",
       "0          141         mpfi  3.78    3.15               9.5        114   \n",
       "1          164         mpfi  3.31    3.19               9.0        121   \n",
       "2          130         mpfi  3.62    3.15               7.5        162   \n",
       "3           90         2bbl  2.97    3.23               9.4         68   \n",
       "4           97         2bbl  3.15    3.29               9.4         69   \n",
       "\n",
       "   peak-rpm city-mpg  highway-mpg  \n",
       "0      5400       23           28  \n",
       "1      4250       21           28  \n",
       "2      5100       17           22  \n",
       "3      5500       31           38  \n",
       "4      5200       31           37  \n",
       "\n",
       "[5 rows x 26 columns]"
      ]
     },
     "execution_count": 814,
     "metadata": {},
     "output_type": "execute_result"
    }
   ],
   "source": [
    "test_df.head()"
   ]
  },
  {
   "cell_type": "code",
   "execution_count": 830,
   "id": "f0f2b3f7",
   "metadata": {},
   "outputs": [
    {
     "name": "stdout",
     "output_type": "stream",
     "text": [
      "<class 'pandas.core.frame.DataFrame'>\n",
      "RangeIndex: 20 entries, 0 to 19\n",
      "Data columns (total 26 columns):\n",
      " #   Column             Non-Null Count  Dtype  \n",
      "---  ------             --------------  -----  \n",
      " 0   ID                 20 non-null     int64  \n",
      " 1   symboling          20 non-null     int64  \n",
      " 2   normalized-losses  20 non-null     object \n",
      " 3   make               20 non-null     object \n",
      " 4   fuel-type          20 non-null     object \n",
      " 5   aspiration         20 non-null     object \n",
      " 6   num-of-doors       20 non-null     object \n",
      " 7   body-style         20 non-null     object \n",
      " 8   drive-wheels       20 non-null     object \n",
      " 9   engine-location    20 non-null     object \n",
      " 10  wheel-base         20 non-null     float64\n",
      " 11  length             20 non-null     float64\n",
      " 12  width              20 non-null     float64\n",
      " 13  height             20 non-null     float64\n",
      " 14  curb-weight        20 non-null     int64  \n",
      " 15  engine-type        20 non-null     object \n",
      " 16  num-of-cylinders   20 non-null     object \n",
      " 17  engine-size        20 non-null     int64  \n",
      " 18  fuel-system        20 non-null     object \n",
      " 19  bore               20 non-null     float64\n",
      " 20  stroke             20 non-null     float64\n",
      " 21  compression-ratio  20 non-null     float64\n",
      " 22  horsepower         20 non-null     int64  \n",
      " 23  peak-rpm           20 non-null     int64  \n",
      " 24  city-mpg           20 non-null     int64  \n",
      " 25  highway-mpg        20 non-null     int64  \n",
      "dtypes: float64(7), int64(8), object(11)\n",
      "memory usage: 4.2+ KB\n"
     ]
    }
   ],
   "source": [
    "test_df.info()"
   ]
  },
  {
   "cell_type": "code",
   "execution_count": 831,
   "id": "007b7da0",
   "metadata": {},
   "outputs": [
    {
     "data": {
      "text/plain": [
       "ID                   0.000000\n",
       "symboling           -0.347488\n",
       "wheel-base           1.002438\n",
       "length               0.048261\n",
       "width                0.617031\n",
       "height              -0.184868\n",
       "curb-weight          0.418280\n",
       "engine-size          1.709527\n",
       "bore                -0.170960\n",
       "stroke              -2.080414\n",
       "compression-ratio    2.794336\n",
       "horsepower           1.071904\n",
       "peak-rpm             0.585285\n",
       "city-mpg             0.152883\n",
       "highway-mpg          0.120829\n",
       "dtype: float64"
      ]
     },
     "execution_count": 831,
     "metadata": {},
     "output_type": "execute_result"
    }
   ],
   "source": [
    "test_df.skew()"
   ]
  },
  {
   "cell_type": "code",
   "execution_count": 832,
   "id": "1b3304bc",
   "metadata": {},
   "outputs": [],
   "source": [
    "from sklearn.preprocessing import LabelEncoder"
   ]
  },
  {
   "cell_type": "code",
   "execution_count": 833,
   "id": "3d2d0ef0",
   "metadata": {},
   "outputs": [],
   "source": [
    "le = LabelEncoder()"
   ]
  },
  {
   "cell_type": "code",
   "execution_count": 834,
   "id": "f72edb6e",
   "metadata": {},
   "outputs": [],
   "source": [
    "test_df['normalized-losses'] = le.fit_transform(test_df['normalized-losses'])\n",
    "test_df['fuel-type'] = le.fit_transform(test_df['fuel-type'])\n",
    "test_df['make'] = le.fit_transform(test_df['make'])\n",
    "test_df['aspiration'] = le.fit_transform(test_df['aspiration'])\n",
    "test_df['num-of-doors'] = le.fit_transform(test_df['num-of-doors'])\n",
    "test_df['body-style'] = le.fit_transform(test_df['body-style'])\n",
    "test_df['drive-wheels'] = le.fit_transform(test_df['drive-wheels'])\n",
    "test_df['engine-location'] = le.fit_transform(test_df['engine-location'])\n",
    "test_df['engine-type'] = le.fit_transform(test_df['engine-type'])\n",
    "test_df['num-of-cylinders'] = le.fit_transform(test_df['num-of-cylinders'])\n",
    "test_df['fuel-system'] = le.fit_transform(test_df['fuel-system'])\n",
    "test_df['bore'] = le.fit_transform(test_df['bore'])\n",
    "test_df['stroke'] = le.fit_transform(test_df['stroke'])\n",
    "test_df['horsepower'] = le.fit_transform(test_df['horsepower'])\n",
    "test_df['peak-rpm'] = le.fit_transform(test_df['peak-rpm'])"
   ]
  },
  {
   "cell_type": "code",
   "execution_count": 835,
   "id": "3fe2d00d",
   "metadata": {},
   "outputs": [
    {
     "data": {
      "text/plain": [
       "ID                     int64\n",
       "symboling              int64\n",
       "normalized-losses      int32\n",
       "make                   int32\n",
       "fuel-type              int32\n",
       "aspiration             int32\n",
       "num-of-doors           int32\n",
       "body-style             int32\n",
       "drive-wheels           int32\n",
       "engine-location        int32\n",
       "wheel-base           float64\n",
       "length               float64\n",
       "width                float64\n",
       "height               float64\n",
       "curb-weight            int64\n",
       "engine-type            int32\n",
       "num-of-cylinders       int32\n",
       "engine-size            int64\n",
       "fuel-system            int32\n",
       "bore                   int64\n",
       "stroke                 int64\n",
       "compression-ratio    float64\n",
       "horsepower             int64\n",
       "peak-rpm               int64\n",
       "city-mpg               int64\n",
       "highway-mpg            int64\n",
       "dtype: object"
      ]
     },
     "execution_count": 835,
     "metadata": {},
     "output_type": "execute_result"
    }
   ],
   "source": [
    "test_df.dtypes"
   ]
  },
  {
   "cell_type": "code",
   "execution_count": 836,
   "id": "9f9d3a59",
   "metadata": {},
   "outputs": [
    {
     "data": {
      "text/plain": [
       "ID                   0.000000\n",
       "symboling           -0.347488\n",
       "normalized-losses    0.020209\n",
       "make                -0.184267\n",
       "fuel-type           -2.887939\n",
       "aspiration           2.887939\n",
       "num-of-doors         0.217687\n",
       "body-style           0.177258\n",
       "drive-wheels         0.000000\n",
       "engine-location      0.000000\n",
       "wheel-base           1.002438\n",
       "length               0.048261\n",
       "width                0.617031\n",
       "height              -0.184868\n",
       "curb-weight          0.418280\n",
       "engine-type         -2.744723\n",
       "num-of-cylinders     0.530511\n",
       "engine-size          1.709527\n",
       "fuel-system         -0.640252\n",
       "bore                 0.013664\n",
       "stroke              -0.073362\n",
       "compression-ratio    2.794336\n",
       "horsepower           0.261834\n",
       "peak-rpm             0.137592\n",
       "city-mpg             0.152883\n",
       "highway-mpg          0.120829\n",
       "dtype: float64"
      ]
     },
     "execution_count": 836,
     "metadata": {},
     "output_type": "execute_result"
    }
   ],
   "source": [
    "test_df.skew()"
   ]
  },
  {
   "cell_type": "code",
   "execution_count": 837,
   "id": "e94c1ced",
   "metadata": {},
   "outputs": [],
   "source": [
    "def Outliers(test_df, var):\n",
    "    Q1 = test_df['compression-ratio'].quantile(0.25)\n",
    "    Q3 = test_df['compression-ratio'].quantile(0.75)\n",
    "    IQR = Q3-Q1\n",
    "    Lower = Q1-(1.5*IQR)\n",
    "    Upper = Q3+(1.5*IQR)\n",
    "    \n",
    "    return Lower, Upper"
   ]
  },
  {
   "cell_type": "code",
   "execution_count": 838,
   "id": "ba6d1333",
   "metadata": {},
   "outputs": [],
   "source": [
    "lower_ratio, upper_ratio = Outliers(test_df, 'compression-ratio')"
   ]
  },
  {
   "cell_type": "code",
   "execution_count": 839,
   "id": "da982148",
   "metadata": {},
   "outputs": [],
   "source": [
    "test_df['compression-ratio'] = np.where(test_df['compression-ratio'] > upper_ratio, upper_ratio, np.where(test_df['compression-ratio'] < \n",
    "                                                                                           lower_ratio, lower_ratio, test_df['compression-ratio']))"
   ]
  },
  {
   "cell_type": "code",
   "execution_count": 840,
   "id": "53b45296",
   "metadata": {},
   "outputs": [
    {
     "data": {
      "text/plain": [
       "<AxesSubplot:xlabel='compression-ratio'>"
      ]
     },
     "execution_count": 840,
     "metadata": {},
     "output_type": "execute_result"
    },
    {
     "data": {
      "image/png": "[encoded data removed]",
      "text/plain": [
       "<Figure size 432x288 with 1 Axes>"
      ]
     },
     "metadata": {
      "needs_background": "light"
     },
     "output_type": "display_data"
    }
   ],
   "source": [
    "sns.boxplot(test_df['compression-ratio'])"
   ]
  },
  {
   "cell_type": "code",
   "execution_count": 841,
   "id": "8974534a",
   "metadata": {},
   "outputs": [],
   "source": [
    "def Outliers(test_df, var):\n",
    "    Q1 = test_df['engine-type'].quantile(0.25)\n",
    "    Q3 = test_df['engine-type'].quantile(0.75)\n",
    "    IQR = Q3-Q1\n",
    "    Lower = Q1-(1.5*IQR)\n",
    "    Upper = Q3+(1.5*IQR)\n",
    "    \n",
    "    return Lower, Upper"
   ]
  },
  {
   "cell_type": "code",
   "execution_count": 842,
   "id": "ced2aa12",
   "metadata": {},
   "outputs": [],
   "source": [
    "lower_engine, upper_engine = Outliers(test_df, 'engine-type')"
   ]
  },
  {
   "cell_type": "code",
   "execution_count": 843,
   "id": "27ea873f",
   "metadata": {},
   "outputs": [],
   "source": [
    "test_df['engine-type'] = np.where(test_df['engine-type'] > upper_engine, upper_engine, np.where(test_df['engine-type'] < \n",
    "                                                                                           lower_engine, lower_engine, test_df['engine-type']))"
   ]
  },
  {
   "cell_type": "code",
   "execution_count": 844,
   "id": "249151d3",
   "metadata": {},
   "outputs": [
    {
     "data": {
      "text/plain": [
       "<AxesSubplot:xlabel='engine-type'>"
      ]
     },
     "execution_count": 844,
     "metadata": {},
     "output_type": "execute_result"
    },
    {
     "data": {
      "image/png": "[encoded data removed]",
      "text/plain": [
       "<Figure size 432x288 with 1 Axes>"
      ]
     },
     "metadata": {
      "needs_background": "light"
     },
     "output_type": "display_data"
    }
   ],
   "source": [
    "sns.boxplot(test_df['engine-type'])"
   ]
  },
  {
   "cell_type": "code",
   "execution_count": 845,
   "id": "4975a618",
   "metadata": {},
   "outputs": [],
   "source": [
    "def Outliers(train_df, var):\n",
    "    Q1 = test_df['fuel-type'].quantile(0.25)\n",
    "    Q3 = test_df['fuel-type'].quantile(0.75)\n",
    "    IQR = Q3-Q1\n",
    "    Lower = Q1-(1.5*IQR)\n",
    "    Upper = Q3+(1.5*IQR)\n",
    "    \n",
    "    return Lower, Upper"
   ]
  },
  {
   "cell_type": "code",
   "execution_count": 846,
   "id": "c8cc4e70",
   "metadata": {},
   "outputs": [],
   "source": [
    "lower_type, upper_type = Outliers(test_df, 'fuel-type')"
   ]
  },
  {
   "cell_type": "code",
   "execution_count": 847,
   "id": "1e5d0e74",
   "metadata": {},
   "outputs": [],
   "source": [
    "test_df['fuel-type'] = np.where(test_df['fuel-type'] > upper_type, upper_type, np.where(test_df['fuel-type'] < \n",
    "                                                                                           lower_type, lower_type, test_df['fuel-type']))"
   ]
  },
  {
   "cell_type": "code",
   "execution_count": 849,
   "id": "9ffe45ee",
   "metadata": {},
   "outputs": [
    {
     "data": {
      "text/plain": [
       "<AxesSubplot:xlabel='fuel-type'>"
      ]
     },
     "execution_count": 849,
     "metadata": {},
     "output_type": "execute_result"
    },
    {
     "data": {
      "image/png": "[encoded data removed]",
      "text/plain": [
       "<Figure size 432x288 with 1 Axes>"
      ]
     },
     "metadata": {
      "needs_background": "light"
     },
     "output_type": "display_data"
    }
   ],
   "source": [
    "sns.boxplot(test_df['fuel-type'])"
   ]
  },
  {
   "cell_type": "code",
   "execution_count": 850,
   "id": "b72f59b4",
   "metadata": {},
   "outputs": [],
   "source": [
    "def Outliers(train_df, var):\n",
    "    Q1 = test_df['aspiration'].quantile(0.25)\n",
    "    Q3 = test_df['aspiration'].quantile(0.75)\n",
    "    IQR = Q3-Q1\n",
    "    Lower = Q1-(1.5*IQR)\n",
    "    Upper = Q3+(1.5*IQR)\n",
    "    \n",
    "    return Lower, Upper"
   ]
  },
  {
   "cell_type": "code",
   "execution_count": 851,
   "id": "a574b6de",
   "metadata": {},
   "outputs": [],
   "source": [
    "lower_asp, upper_asp = Outliers(test_df, 'aspiration')"
   ]
  },
  {
   "cell_type": "code",
   "execution_count": 852,
   "id": "dbd80c18",
   "metadata": {},
   "outputs": [],
   "source": [
    "test_df['aspiration'] = np.where(test_df['aspiration'] > upper_asp, upper_asp, np.where(test_df['aspiration'] < \n",
    "                                                                                           lower_asp, lower_asp, test_df['aspiration']))"
   ]
  },
  {
   "cell_type": "code",
   "execution_count": 853,
   "id": "f4d372b3",
   "metadata": {},
   "outputs": [
    {
     "data": {
      "text/plain": [
       "<AxesSubplot:xlabel='aspiration'>"
      ]
     },
     "execution_count": 853,
     "metadata": {},
     "output_type": "execute_result"
    },
    {
     "data": {
      "image/png": "[encoded data removed]",
      "text/plain": [
       "<Figure size 432x288 with 1 Axes>"
      ]
     },
     "metadata": {
      "needs_background": "light"
     },
     "output_type": "display_data"
    }
   ],
   "source": [
    "sns.boxplot(test_df['aspiration'])"
   ]
  },
  {
   "cell_type": "code",
   "execution_count": 854,
   "id": "eeaf0e54",
   "metadata": {},
   "outputs": [],
   "source": [
    "def Outliers(train_df, var):\n",
    "    Q1 = test_df['wheel-base'].quantile(0.25)\n",
    "    Q3 = test_df['wheel-base'].quantile(0.75)\n",
    "    IQR = Q3-Q1\n",
    "    Lower = Q1-(1.5*IQR)\n",
    "    Upper = Q3+(1.5*IQR)\n",
    "    \n",
    "    return Lower, Upper"
   ]
  },
  {
   "cell_type": "code",
   "execution_count": 855,
   "id": "69318eb6",
   "metadata": {},
   "outputs": [],
   "source": [
    "lower_wheel, upper_wheel = Outliers(test_df, 'wheel-base')"
   ]
  },
  {
   "cell_type": "code",
   "execution_count": 856,
   "id": "87fa1935",
   "metadata": {},
   "outputs": [],
   "source": [
    "test_df['wheel-base'] = np.where(test_df['wheel-base'] > upper_wheel, upper_wheel, np.where(test_df['wheel-base'] < \n",
    "                                                                                           lower_wheel, lower_wheel, test_df['wheel-base']))"
   ]
  },
  {
   "cell_type": "code",
   "execution_count": 857,
   "id": "2526db49",
   "metadata": {},
   "outputs": [
    {
     "data": {
      "text/plain": [
       "<AxesSubplot:xlabel='wheel-base'>"
      ]
     },
     "execution_count": 857,
     "metadata": {},
     "output_type": "execute_result"
    },
    {
     "data": {
      "image/png": "[encoded data removed]",
      "text/plain": [
       "<Figure size 432x288 with 1 Axes>"
      ]
     },
     "metadata": {
      "needs_background": "light"
     },
     "output_type": "display_data"
    }
   ],
   "source": [
    "sns.boxplot(test_df['wheel-base'])"
   ]
  },
  {
   "cell_type": "code",
   "execution_count": 858,
   "id": "a551def8",
   "metadata": {},
   "outputs": [],
   "source": [
    "def Outliers(test_df, var):\n",
    "    Q1 = test_df['engine-size'].quantile(0.25)\n",
    "    Q3 = test_df['engine-size'].quantile(0.75)\n",
    "    IQR = Q3-Q1\n",
    "    Lower = Q1-(1.5*IQR)\n",
    "    Upper = Q3+(1.5*IQR)\n",
    "    \n",
    "    return Lower, Upper"
   ]
  },
  {
   "cell_type": "code",
   "execution_count": 859,
   "id": "f7c45357",
   "metadata": {},
   "outputs": [],
   "source": [
    "lower_size, upper_size = Outliers(test_df, 'engine-size')"
   ]
  },
  {
   "cell_type": "code",
   "execution_count": 861,
   "id": "b761a30a",
   "metadata": {},
   "outputs": [],
   "source": [
    "test_df['engine-size'] = np.where(test_df['engine-size'] > upper_size, upper_size, np.where(test_df['engine-size'] < \n",
    "                                                                                           lower_size, lower_size, test_df['engine-size']))"
   ]
  },
  {
   "cell_type": "code",
   "execution_count": 862,
   "id": "1ea2125d",
   "metadata": {},
   "outputs": [
    {
     "data": {
      "text/plain": [
       "<AxesSubplot:xlabel='engine-size'>"
      ]
     },
     "execution_count": 862,
     "metadata": {},
     "output_type": "execute_result"
    },
    {
     "data": {
      "image/png": "[encoded data removed]",
      "text/plain": [
       "<Figure size 432x288 with 1 Axes>"
      ]
     },
     "metadata": {
      "needs_background": "light"
     },
     "output_type": "display_data"
    }
   ],
   "source": [
    "sns.boxplot(test_df['engine-size'])"
   ]
  },
  {
   "cell_type": "code",
   "execution_count": 864,
   "id": "84c09e1a",
   "metadata": {},
   "outputs": [
    {
     "data": {
      "text/plain": [
       "ID                   0.000000\n",
       "symboling           -0.347488\n",
       "normalized-losses    0.020209\n",
       "make                -0.184267\n",
       "fuel-type            0.000000\n",
       "aspiration           0.000000\n",
       "num-of-doors         0.217687\n",
       "body-style           0.177258\n",
       "drive-wheels         0.000000\n",
       "engine-location      0.000000\n",
       "wheel-base           1.002438\n",
       "length               0.048261\n",
       "width                0.617031\n",
       "height              -0.184868\n",
       "curb-weight          0.418280\n",
       "engine-type          0.000000\n",
       "num-of-cylinders     0.530511\n",
       "engine-size          1.158616\n",
       "fuel-system         -0.640252\n",
       "bore                 0.013664\n",
       "stroke              -0.073362\n",
       "compression-ratio    0.394097\n",
       "horsepower           0.261834\n",
       "peak-rpm             0.137592\n",
       "city-mpg             0.152883\n",
       "highway-mpg          0.120829\n",
       "dtype: float64"
      ]
     },
     "execution_count": 864,
     "metadata": {},
     "output_type": "execute_result"
    }
   ],
   "source": [
    "test_df.skew()"
   ]
  },
  {
   "cell_type": "code",
   "execution_count": 865,
   "id": "82c8d85c",
   "metadata": {},
   "outputs": [
    {
     "data": {
      "text/plain": [
       "ID                     int64\n",
       "symboling              int64\n",
       "normalized-losses      int32\n",
       "make                   int32\n",
       "fuel-type            float64\n",
       "aspiration           float64\n",
       "num-of-doors           int32\n",
       "body-style             int32\n",
       "drive-wheels           int32\n",
       "engine-location        int32\n",
       "wheel-base           float64\n",
       "length               float64\n",
       "width                float64\n",
       "height               float64\n",
       "curb-weight            int64\n",
       "engine-type          float64\n",
       "num-of-cylinders       int32\n",
       "engine-size          float64\n",
       "fuel-system            int32\n",
       "bore                   int64\n",
       "stroke                 int64\n",
       "compression-ratio    float64\n",
       "horsepower             int64\n",
       "peak-rpm               int64\n",
       "city-mpg               int64\n",
       "highway-mpg            int64\n",
       "dtype: object"
      ]
     },
     "execution_count": 865,
     "metadata": {},
     "output_type": "execute_result"
    }
   ],
   "source": [
    "test_df.dtypes"
   ]
  },
  {
   "cell_type": "code",
   "execution_count": 866,
   "id": "a6334b68",
   "metadata": {},
   "outputs": [],
   "source": [
    "df_test = test_df.iloc[:, 1:]"
   ]
  },
  {
   "cell_type": "code",
   "execution_count": 883,
   "id": "ab447893",
   "metadata": {},
   "outputs": [],
   "source": [
    "predicted_test = model.predict(df_test)"
   ]
  },
  {
   "cell_type": "code",
   "execution_count": 884,
   "id": "f9a0acac",
   "metadata": {},
   "outputs": [
    {
     "data": {
      "text/plain": [
       "array([19587.35916861, 19332.78069758, 17076.22386991,  8323.07583012,\n",
       "        7689.33488175, 10585.61053719, 17897.87773644, 18490.4323114 ,\n",
       "        9942.03654446, 10222.65877713, 16673.56114887,  8525.37494269,\n",
       "       10450.00388951,  8241.62260848, 15446.52829283, 23518.70967416,\n",
       "       11981.59976888, 19074.43301902, 14173.69010037, 10680.75641427])"
      ]
     },
     "execution_count": 884,
     "metadata": {},
     "output_type": "execute_result"
    }
   ],
   "source": [
    "predicted_test"
   ]
  },
  {
   "cell_type": "code",
   "execution_count": 885,
   "id": "461cd9a1",
   "metadata": {},
   "outputs": [],
   "source": [
    "df_test['Price_Predicted'] = predicted_test"
   ]
  },
  {
   "cell_type": "code",
   "execution_count": 886,
   "id": "5a0b5a98",
   "metadata": {},
   "outputs": [
    {
     "data": {
      "text/html": [
       "<div>\n",
       "<style scoped>\n",
       "    .dataframe tbody tr th:only-of-type {\n",
       "        vertical-align: middle;\n",
       "    }\n",
       "\n",
       "    .dataframe tbody tr th {\n",
       "        vertical-align: top;\n",
       "    }\n",
       "\n",
       "    .dataframe thead th {\n",
       "        text-align: right;\n",
       "    }\n",
       "</style>\n",
       "<table border=\"1\" class=\"dataframe\">\n",
       "  <thead>\n",
       "    <tr style=\"text-align: right;\">\n",
       "      <th></th>\n",
       "      <th>symboling</th>\n",
       "      <th>normalized-losses</th>\n",
       "      <th>make</th>\n",
       "      <th>fuel-type</th>\n",
       "      <th>aspiration</th>\n",
       "      <th>num-of-doors</th>\n",
       "      <th>body-style</th>\n",
       "      <th>drive-wheels</th>\n",
       "      <th>engine-location</th>\n",
       "      <th>wheel-base</th>\n",
       "      <th>...</th>\n",
       "      <th>engine-size</th>\n",
       "      <th>fuel-system</th>\n",
       "      <th>bore</th>\n",
       "      <th>stroke</th>\n",
       "      <th>compression-ratio</th>\n",
       "      <th>horsepower</th>\n",
       "      <th>peak-rpm</th>\n",
       "      <th>city-mpg</th>\n",
       "      <th>highway-mpg</th>\n",
       "      <th>Price_Predicted</th>\n",
       "    </tr>\n",
       "  </thead>\n",
       "  <tbody>\n",
       "    <tr>\n",
       "      <th>0</th>\n",
       "      <td>-2</td>\n",
       "      <td>1</td>\n",
       "      <td>11</td>\n",
       "      <td>1.0</td>\n",
       "      <td>0.0</td>\n",
       "      <td>0</td>\n",
       "      <td>1</td>\n",
       "      <td>1</td>\n",
       "      <td>0</td>\n",
       "      <td>104.3</td>\n",
       "      <td>...</td>\n",
       "      <td>141.0</td>\n",
       "      <td>3</td>\n",
       "      <td>14</td>\n",
       "      <td>5</td>\n",
       "      <td>9.5</td>\n",
       "      <td>11</td>\n",
       "      <td>7</td>\n",
       "      <td>23</td>\n",
       "      <td>28</td>\n",
       "      <td>19587.359169</td>\n",
       "    </tr>\n",
       "    <tr>\n",
       "      <th>1</th>\n",
       "      <td>0</td>\n",
       "      <td>8</td>\n",
       "      <td>1</td>\n",
       "      <td>1.0</td>\n",
       "      <td>0.0</td>\n",
       "      <td>0</td>\n",
       "      <td>1</td>\n",
       "      <td>1</td>\n",
       "      <td>0</td>\n",
       "      <td>101.2</td>\n",
       "      <td>...</td>\n",
       "      <td>164.0</td>\n",
       "      <td>3</td>\n",
       "      <td>9</td>\n",
       "      <td>7</td>\n",
       "      <td>9.0</td>\n",
       "      <td>13</td>\n",
       "      <td>0</td>\n",
       "      <td>21</td>\n",
       "      <td>28</td>\n",
       "      <td>19332.780698</td>\n",
       "    </tr>\n",
       "    <tr>\n",
       "      <th>2</th>\n",
       "      <td>-1</td>\n",
       "      <td>10</td>\n",
       "      <td>11</td>\n",
       "      <td>1.0</td>\n",
       "      <td>0.0</td>\n",
       "      <td>0</td>\n",
       "      <td>2</td>\n",
       "      <td>1</td>\n",
       "      <td>0</td>\n",
       "      <td>104.3</td>\n",
       "      <td>...</td>\n",
       "      <td>130.0</td>\n",
       "      <td>3</td>\n",
       "      <td>12</td>\n",
       "      <td>5</td>\n",
       "      <td>7.5</td>\n",
       "      <td>14</td>\n",
       "      <td>4</td>\n",
       "      <td>17</td>\n",
       "      <td>22</td>\n",
       "      <td>17076.223870</td>\n",
       "    </tr>\n",
       "    <tr>\n",
       "      <th>3</th>\n",
       "      <td>1</td>\n",
       "      <td>5</td>\n",
       "      <td>7</td>\n",
       "      <td>1.0</td>\n",
       "      <td>0.0</td>\n",
       "      <td>0</td>\n",
       "      <td>1</td>\n",
       "      <td>0</td>\n",
       "      <td>0</td>\n",
       "      <td>93.7</td>\n",
       "      <td>...</td>\n",
       "      <td>90.0</td>\n",
       "      <td>1</td>\n",
       "      <td>2</td>\n",
       "      <td>8</td>\n",
       "      <td>9.4</td>\n",
       "      <td>2</td>\n",
       "      <td>8</td>\n",
       "      <td>31</td>\n",
       "      <td>38</td>\n",
       "      <td>8323.075830</td>\n",
       "    </tr>\n",
       "    <tr>\n",
       "      <th>4</th>\n",
       "      <td>1</td>\n",
       "      <td>1</td>\n",
       "      <td>5</td>\n",
       "      <td>1.0</td>\n",
       "      <td>0.0</td>\n",
       "      <td>0</td>\n",
       "      <td>2</td>\n",
       "      <td>0</td>\n",
       "      <td>0</td>\n",
       "      <td>94.5</td>\n",
       "      <td>...</td>\n",
       "      <td>97.0</td>\n",
       "      <td>1</td>\n",
       "      <td>5</td>\n",
       "      <td>9</td>\n",
       "      <td>9.4</td>\n",
       "      <td>3</td>\n",
       "      <td>5</td>\n",
       "      <td>31</td>\n",
       "      <td>37</td>\n",
       "      <td>7689.334882</td>\n",
       "    </tr>\n",
       "  </tbody>\n",
       "</table>\n",
       "<p>5 rows × 26 columns</p>\n",
       "</div>"
      ],
      "text/plain": [
       "   symboling  normalized-losses  make  fuel-type  aspiration  num-of-doors  \\\n",
       "0         -2                  1    11        1.0         0.0             0   \n",
       "1          0                  8     1        1.0         0.0             0   \n",
       "2         -1                 10    11        1.0         0.0             0   \n",
       "3          1                  5     7        1.0         0.0             0   \n",
       "4          1                  1     5        1.0         0.0             0   \n",
       "\n",
       "   body-style  drive-wheels  engine-location  wheel-base  ...  engine-size  \\\n",
       "0           1             1                0       104.3  ...        141.0   \n",
       "1           1             1                0       101.2  ...        164.0   \n",
       "2           2             1                0       104.3  ...        130.0   \n",
       "3           1             0                0        93.7  ...         90.0   \n",
       "4           2             0                0        94.5  ...         97.0   \n",
       "\n",
       "   fuel-system  bore  stroke  compression-ratio  horsepower  peak-rpm  \\\n",
       "0            3    14       5                9.5          11         7   \n",
       "1            3     9       7                9.0          13         0   \n",
       "2            3    12       5                7.5          14         4   \n",
       "3            1     2       8                9.4           2         8   \n",
       "4            1     5       9                9.4           3         5   \n",
       "\n",
       "   city-mpg  highway-mpg  Price_Predicted  \n",
       "0        23           28     19587.359169  \n",
       "1        21           28     19332.780698  \n",
       "2        17           22     17076.223870  \n",
       "3        31           38      8323.075830  \n",
       "4        31           37      7689.334882  \n",
       "\n",
       "[5 rows x 26 columns]"
      ]
     },
     "execution_count": 886,
     "metadata": {},
     "output_type": "execute_result"
    }
   ],
   "source": [
    "df_test.head()"
   ]
  },
  {
   "cell_type": "code",
   "execution_count": 889,
   "id": "8cb515b6",
   "metadata": {},
   "outputs": [],
   "source": [
    "df_test.to_csv('Submission_price.csv', index = False, header = False)"
   ]
  },
  {
   "cell_type": "code",
   "execution_count": null,
   "id": "6006edbf",
   "metadata": {},
   "outputs": [],
   "source": []
  },
  {
   "cell_type": "code",
   "execution_count": null,
   "id": "fbaf5455",
   "metadata": {},
   "outputs": [],
   "source": []
  }
 ],
 "metadata": {
  "kernelspec": {
   "display_name": "Python 3 (ipykernel)",
   "language": "python",
   "name": "python3"
  },
  "language_info": {
   "codemirror_mode": {
    "name": "ipython",
    "version": 3
   },
   "file_extension": ".py",
   "mimetype": "text/x-python",
   "name": "python",
   "nbconvert_exporter": "python",
   "pygments_lexer": "ipython3",
   "version": "3.9.12"
  }
 },
 "nbformat": 4,
 "nbformat_minor": 5
}
